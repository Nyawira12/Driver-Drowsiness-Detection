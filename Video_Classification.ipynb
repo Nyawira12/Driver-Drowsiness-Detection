{
  "nbformat": 4,
  "nbformat_minor": 0,
  "metadata": {
    "colab": {
      "name": "Video Classification.ipynb",
      "provenance": [],
      "collapsed_sections": [],
      "toc_visible": true
    },
    "kernelspec": {
      "name": "python3",
      "display_name": "Python 3"
    }
  },
  "cells": [
    {
      "cell_type": "markdown",
      "metadata": {
        "id": "Qrb91GZSRFQ7"
      },
      "source": [
        "PART 4 : MODELLING"
      ]
    },
    {
      "cell_type": "markdown",
      "metadata": {
        "id": "voz8dhNeRMXI"
      },
      "source": [
        "Data was split using 70 - 30 rule, individuals to be in the train set and those to be in the test set were randomly selected.\n",
        "\n",
        "Significant imbalance between classes: {Not Alert: 0.67, Alert: 0.33} The not alert examples include frames labelled as both low vigilance and drowsy.\n"
      ]
    },
    {
      "cell_type": "code",
      "metadata": {
        "id": "f98vXQaMq8b7"
      },
      "source": [
        "!pip install keras-tuner"
      ],
      "execution_count": null,
      "outputs": []
    },
    {
      "cell_type": "code",
      "metadata": {
        "id": "oxzel_6kNH11"
      },
      "source": [
        "from sklearn.ensemble import RandomForestClassifier\n",
        "from sklearn.neighbors import KNeighborsClassifier\n",
        "from sklearn.model_selection import GridSearchCV\n",
        "from xgboost import XGBClassifier\n",
        "from sklearn.metrics import roc_auc_score, classification_report, confusion_matrix, roc_curve, accuracy_score, f1_score\n",
        "from keras.models import Sequential\n",
        "from keras.layers import Dense, Flatten, Dropout\n",
        "from keras.layers.convolutional import Conv1D\n",
        "from keras.optimizers import Adam, RMSprop\n",
        "from keras.utils import np_utils\n",
        "from kerastuner.tuners import RandomSearch\n",
        "import kerastuner as kt\n",
        "import pandas as pd\n",
        "import matplotlib.pyplot as plt\n",
        "import numpy as np\n",
        "import random"
      ],
      "execution_count": null,
      "outputs": []
    },
    {
      "cell_type": "code",
      "metadata": {
        "id": "A2Jsvqo2SrbK"
      },
      "source": [
        "# Load data\n",
        "frames_1_5 = pd.read_csv('frames_1_5.csv')\n",
        "frames_13_18 = pd.read_csv('frames_13_18.csv')\n",
        "frames_25_30 = pd.read_csv('frames_25_30.csv')"
      ],
      "execution_count": null,
      "outputs": []
    },
    {
      "cell_type": "code",
      "metadata": {
        "colab": {
          "base_uri": "https://localhost:8080/",
          "height": 191
        },
        "id": "EIZ3bj1pS4B0",
        "outputId": "b8468de1-e542-4f2e-d035-7196b5d957fe"
      },
      "source": [
        "# Preview data sets\n",
        "frames_1_5.head()"
      ],
      "execution_count": null,
      "outputs": [
        {
          "output_type": "execute_result",
          "data": {
            "text/html": [
              "<div>\n",
              "<style scoped>\n",
              "    .dataframe tbody tr th:only-of-type {\n",
              "        vertical-align: middle;\n",
              "    }\n",
              "\n",
              "    .dataframe tbody tr th {\n",
              "        vertical-align: top;\n",
              "    }\n",
              "\n",
              "    .dataframe thead th {\n",
              "        text-align: right;\n",
              "    }\n",
              "</style>\n",
              "<table border=\"1\" class=\"dataframe\">\n",
              "  <thead>\n",
              "    <tr style=\"text-align: right;\">\n",
              "      <th></th>\n",
              "      <th>EAR</th>\n",
              "      <th>MAR</th>\n",
              "      <th>MOE</th>\n",
              "      <th>PUC</th>\n",
              "      <th>labels</th>\n",
              "      <th>individuals</th>\n",
              "      <th>NORM_EAR</th>\n",
              "      <th>NORM_MAR</th>\n",
              "      <th>NORM_MOE</th>\n",
              "      <th>NORM_PUC</th>\n",
              "    </tr>\n",
              "  </thead>\n",
              "  <tbody>\n",
              "    <tr>\n",
              "      <th>0</th>\n",
              "      <td>0.335835</td>\n",
              "      <td>0.045935</td>\n",
              "      <td>0.136779</td>\n",
              "      <td>0.528916</td>\n",
              "      <td>0</td>\n",
              "      <td>1</td>\n",
              "      <td>0.039503</td>\n",
              "      <td>1.421065</td>\n",
              "      <td>1.167637</td>\n",
              "      <td>0.272911</td>\n",
              "    </tr>\n",
              "    <tr>\n",
              "      <th>1</th>\n",
              "      <td>0.253415</td>\n",
              "      <td>0.027255</td>\n",
              "      <td>0.107550</td>\n",
              "      <td>0.395299</td>\n",
              "      <td>0</td>\n",
              "      <td>1</td>\n",
              "      <td>-1.416127</td>\n",
              "      <td>-0.023263</td>\n",
              "      <td>0.496044</td>\n",
              "      <td>-1.476584</td>\n",
              "    </tr>\n",
              "    <tr>\n",
              "      <th>2</th>\n",
              "      <td>0.381109</td>\n",
              "      <td>0.018006</td>\n",
              "      <td>0.047247</td>\n",
              "      <td>0.561826</td>\n",
              "      <td>0</td>\n",
              "      <td>1</td>\n",
              "      <td>0.839105</td>\n",
              "      <td>-0.738322</td>\n",
              "      <td>-0.889483</td>\n",
              "      <td>0.703824</td>\n",
              "    </tr>\n",
              "    <tr>\n",
              "      <th>3</th>\n",
              "      <td>0.364033</td>\n",
              "      <td>0.019026</td>\n",
              "      <td>0.052265</td>\n",
              "      <td>0.546248</td>\n",
              "      <td>0</td>\n",
              "      <td>1</td>\n",
              "      <td>0.537518</td>\n",
              "      <td>-0.659480</td>\n",
              "      <td>-0.774199</td>\n",
              "      <td>0.499849</td>\n",
              "    </tr>\n",
              "    <tr>\n",
              "      <th>4</th>\n",
              "      <td>0.360476</td>\n",
              "      <td>0.067932</td>\n",
              "      <td>0.188450</td>\n",
              "      <td>0.541384</td>\n",
              "      <td>0</td>\n",
              "      <td>1</td>\n",
              "      <td>0.474697</td>\n",
              "      <td>3.121770</td>\n",
              "      <td>2.354840</td>\n",
              "      <td>0.436160</td>\n",
              "    </tr>\n",
              "  </tbody>\n",
              "</table>\n",
              "</div>"
            ],
            "text/plain": [
              "        EAR       MAR       MOE  ...  NORM_MAR  NORM_MOE  NORM_PUC\n",
              "0  0.335835  0.045935  0.136779  ...  1.421065  1.167637  0.272911\n",
              "1  0.253415  0.027255  0.107550  ... -0.023263  0.496044 -1.476584\n",
              "2  0.381109  0.018006  0.047247  ... -0.738322 -0.889483  0.703824\n",
              "3  0.364033  0.019026  0.052265  ... -0.659480 -0.774199  0.499849\n",
              "4  0.360476  0.067932  0.188450  ...  3.121770  2.354840  0.436160\n",
              "\n",
              "[5 rows x 10 columns]"
            ]
          },
          "metadata": {
            "tags": []
          },
          "execution_count": 122
        }
      ]
    },
    {
      "cell_type": "code",
      "metadata": {
        "colab": {
          "base_uri": "https://localhost:8080/"
        },
        "id": "hllAqzbTZ4Mm",
        "outputId": "a8d00517-e0a4-44af-9ebf-65720989a60c"
      },
      "source": [
        "frames_25_30['labels'].value_counts()"
      ],
      "execution_count": null,
      "outputs": [
        {
          "output_type": "execute_result",
          "data": {
            "text/plain": [
              "1    316\n",
              "0    316\n",
              "Name: labels, dtype: int64"
            ]
          },
          "metadata": {
            "tags": []
          },
          "execution_count": 123
        }
      ]
    },
    {
      "cell_type": "code",
      "metadata": {
        "colab": {
          "base_uri": "https://localhost:8080/",
          "height": 191
        },
        "id": "MdS4qgcPZwp-",
        "outputId": "6b5b9848-8e67-4052-b734-6044c2bb3453"
      },
      "source": [
        "# Preview data sets\n",
        "frames_13_18.head()"
      ],
      "execution_count": null,
      "outputs": [
        {
          "output_type": "execute_result",
          "data": {
            "text/html": [
              "<div>\n",
              "<style scoped>\n",
              "    .dataframe tbody tr th:only-of-type {\n",
              "        vertical-align: middle;\n",
              "    }\n",
              "\n",
              "    .dataframe tbody tr th {\n",
              "        vertical-align: top;\n",
              "    }\n",
              "\n",
              "    .dataframe thead th {\n",
              "        text-align: right;\n",
              "    }\n",
              "</style>\n",
              "<table border=\"1\" class=\"dataframe\">\n",
              "  <thead>\n",
              "    <tr style=\"text-align: right;\">\n",
              "      <th></th>\n",
              "      <th>EAR</th>\n",
              "      <th>MAR</th>\n",
              "      <th>MOE</th>\n",
              "      <th>PUC</th>\n",
              "      <th>labels</th>\n",
              "      <th>individuals</th>\n",
              "      <th>NORM_EAR</th>\n",
              "      <th>NORM_MAR</th>\n",
              "      <th>NORM_MOE</th>\n",
              "      <th>NORM_PUC</th>\n",
              "    </tr>\n",
              "  </thead>\n",
              "  <tbody>\n",
              "    <tr>\n",
              "      <th>0</th>\n",
              "      <td>0.275309</td>\n",
              "      <td>0.016793</td>\n",
              "      <td>0.060997</td>\n",
              "      <td>0.461757</td>\n",
              "      <td>0</td>\n",
              "      <td>13</td>\n",
              "      <td>-1.472587</td>\n",
              "      <td>-1.401509</td>\n",
              "      <td>-1.395918</td>\n",
              "      <td>-1.415283</td>\n",
              "    </tr>\n",
              "    <tr>\n",
              "      <th>1</th>\n",
              "      <td>0.303325</td>\n",
              "      <td>0.134450</td>\n",
              "      <td>0.443253</td>\n",
              "      <td>0.498823</td>\n",
              "      <td>0</td>\n",
              "      <td>13</td>\n",
              "      <td>0.271834</td>\n",
              "      <td>0.797101</td>\n",
              "      <td>0.829263</td>\n",
              "      <td>0.522114</td>\n",
              "    </tr>\n",
              "    <tr>\n",
              "      <th>2</th>\n",
              "      <td>0.306427</td>\n",
              "      <td>0.090308</td>\n",
              "      <td>0.294714</td>\n",
              "      <td>0.505097</td>\n",
              "      <td>0</td>\n",
              "      <td>13</td>\n",
              "      <td>0.464930</td>\n",
              "      <td>-0.027757</td>\n",
              "      <td>-0.035409</td>\n",
              "      <td>0.850004</td>\n",
              "    </tr>\n",
              "    <tr>\n",
              "      <th>3</th>\n",
              "      <td>0.310777</td>\n",
              "      <td>0.125623</td>\n",
              "      <td>0.404223</td>\n",
              "      <td>0.489660</td>\n",
              "      <td>0</td>\n",
              "      <td>13</td>\n",
              "      <td>0.735822</td>\n",
              "      <td>0.632165</td>\n",
              "      <td>0.602064</td>\n",
              "      <td>0.043164</td>\n",
              "    </tr>\n",
              "    <tr>\n",
              "      <th>4</th>\n",
              "      <td>0.318539</td>\n",
              "      <td>0.047389</td>\n",
              "      <td>0.148770</td>\n",
              "      <td>0.515814</td>\n",
              "      <td>0</td>\n",
              "      <td>13</td>\n",
              "      <td>1.219064</td>\n",
              "      <td>-0.829776</td>\n",
              "      <td>-0.884979</td>\n",
              "      <td>1.410191</td>\n",
              "    </tr>\n",
              "  </tbody>\n",
              "</table>\n",
              "</div>"
            ],
            "text/plain": [
              "        EAR       MAR       MOE  ...  NORM_MAR  NORM_MOE  NORM_PUC\n",
              "0  0.275309  0.016793  0.060997  ... -1.401509 -1.395918 -1.415283\n",
              "1  0.303325  0.134450  0.443253  ...  0.797101  0.829263  0.522114\n",
              "2  0.306427  0.090308  0.294714  ... -0.027757 -0.035409  0.850004\n",
              "3  0.310777  0.125623  0.404223  ...  0.632165  0.602064  0.043164\n",
              "4  0.318539  0.047389  0.148770  ... -0.829776 -0.884979  1.410191\n",
              "\n",
              "[5 rows x 10 columns]"
            ]
          },
          "metadata": {
            "tags": []
          },
          "execution_count": 124
        }
      ]
    },
    {
      "cell_type": "code",
      "metadata": {
        "id": "vHOmiZj7MtWc"
      },
      "source": [
        "# Combine data frames\n",
        "all_frames = pd.concat([frames_13_18, frames_25_30])\n",
        "#all_frames = frames_25_30"
      ],
      "execution_count": null,
      "outputs": []
    },
    {
      "cell_type": "code",
      "metadata": {
        "id": "PdsCeopDTC-V",
        "colab": {
          "base_uri": "https://localhost:8080/"
        },
        "outputId": "7e36019d-fec7-4af9-c025-6e40043f6a08"
      },
      "source": [
        "# Shape of data\n",
        "all_frames.shape"
      ],
      "execution_count": null,
      "outputs": [
        {
          "output_type": "execute_result",
          "data": {
            "text/plain": [
              "(2528, 10)"
            ]
          },
          "metadata": {
            "tags": []
          },
          "execution_count": 232
        }
      ]
    },
    {
      "cell_type": "code",
      "metadata": {
        "colab": {
          "base_uri": "https://localhost:8080/"
        },
        "id": "hLOlOnMaTmNM",
        "outputId": "98acabc2-670f-46b1-c52a-a74c4b326b61"
      },
      "source": [
        "# List of individuals in dataframes\n",
        "unique_ind = all_frames['individuals'].unique()\n",
        "unique_ind"
      ],
      "execution_count": null,
      "outputs": [
        {
          "output_type": "execute_result",
          "data": {
            "text/plain": [
              "array([13, 14, 15, 16, 17, 18, 25, 29])"
            ]
          },
          "metadata": {
            "tags": []
          },
          "execution_count": 233
        }
      ]
    },
    {
      "cell_type": "code",
      "metadata": {
        "id": "OqFbF6c4PgIf"
      },
      "source": [
        "# Split data into train sets. Using an 70-30 rule, randomly select individuals to be in the train and test sets\n",
        "num_train = int(round(len(unique_ind)*0.7, 0))\n",
        "train_ind = random.sample(list(unique_ind), num_train)\n",
        "test_ind = list(set(unique_ind) - set(train_ind))\n",
        "\n",
        "# Create train and test sets\n",
        "train = all_frames[all_frames['individuals'].isin(train_ind)]\n",
        "test = all_frames[all_frames['individuals'].isin(test_ind)]"
      ],
      "execution_count": null,
      "outputs": []
    },
    {
      "cell_type": "code",
      "metadata": {
        "colab": {
          "base_uri": "https://localhost:8080/"
        },
        "id": "N9lTJH3FVlRd",
        "outputId": "6ed9c251-872f-4d11-d696-0903434f23d7"
      },
      "source": [
        "print(train.shape)\n",
        "print(test.shape)"
      ],
      "execution_count": null,
      "outputs": [
        {
          "output_type": "stream",
          "text": [
            "(1896, 10)\n",
            "(632, 10)\n"
          ],
          "name": "stdout"
        }
      ]
    },
    {
      "cell_type": "code",
      "metadata": {
        "id": "uCGVJvK1Vu0a"
      },
      "source": [
        "# Split train and test sets into features and labels\n",
        "x_train = train.drop(['individuals','labels'], axis=1).iloc[:, 4:]\n",
        "x_test = test.drop(['individuals','labels'], axis=1).iloc[:, 4:]\n",
        "y_train = train['labels']\n",
        "y_test = test['labels']"
      ],
      "execution_count": null,
      "outputs": []
    },
    {
      "cell_type": "code",
      "metadata": {
        "id": "5siezt_KaElR"
      },
      "source": [
        "# Define function to estimate individual status based on previous and successive frames\n",
        "def average(y_pred):\n",
        "  for i in range(len(y_pred)):\n",
        "    if i%158 == 0 or (i+1) % 158 == 0:\n",
        "      pass\n",
        "    else:\n",
        "      average = float(y_pred[i-1] +  y_pred[i] + y_pred[i+1])/3\n",
        "      if average >= 0.5:\n",
        "        y_pred[i] = 1\n",
        "      else:\n",
        "        y_pred[i] = 0\n",
        "  return y_pred"
      ],
      "execution_count": null,
      "outputs": []
    },
    {
      "cell_type": "code",
      "metadata": {
        "colab": {
          "base_uri": "https://localhost:8080/"
        },
        "id": "oG39IOdlUgaf",
        "outputId": "81b69d11-b9d2-4e60-b823-00022bc5e9a6"
      },
      "source": [
        "# Distribution of classes in train and test\n",
        "y_train.value_counts(normalize=True)"
      ],
      "execution_count": null,
      "outputs": [
        {
          "output_type": "execute_result",
          "data": {
            "text/plain": [
              "1    0.5\n",
              "0    0.5\n",
              "Name: labels, dtype: float64"
            ]
          },
          "metadata": {
            "tags": []
          },
          "execution_count": 238
        }
      ]
    },
    {
      "cell_type": "code",
      "metadata": {
        "colab": {
          "base_uri": "https://localhost:8080/"
        },
        "id": "JdreiIO0W07m",
        "outputId": "b91ad53a-afa3-497b-94e6-ee6a0b76eba2"
      },
      "source": [
        "y_test.value_counts(normalize=True)"
      ],
      "execution_count": null,
      "outputs": [
        {
          "output_type": "execute_result",
          "data": {
            "text/plain": [
              "1    0.5\n",
              "0    0.5\n",
              "Name: labels, dtype: float64"
            ]
          },
          "metadata": {
            "tags": []
          },
          "execution_count": 239
        }
      ]
    },
    {
      "cell_type": "markdown",
      "metadata": {
        "id": "PHQ72MMNXdqv"
      },
      "source": [
        "## Random Forest"
      ]
    },
    {
      "cell_type": "code",
      "metadata": {
        "id": "nk0y7YrMXP4M"
      },
      "source": [
        "# Initialize random forest model with base parameters\n",
        "random_forest_model = RandomForestClassifier()\n",
        "# Fit model\n",
        "random_forest_model.fit(x_train, y_train)\n",
        "# Make predictions\n",
        "rand_pred = random_forest_model.predict(x_test)\n"
      ],
      "execution_count": null,
      "outputs": []
    },
    {
      "cell_type": "code",
      "metadata": {
        "colab": {
          "base_uri": "https://localhost:8080/"
        },
        "id": "RcCGw3K7YwtM",
        "outputId": "f15f9a79-4691-49da-bfde-540c568bb5e4"
      },
      "source": [
        "# Evaluate model\n",
        "print(classification_report(y_test, average(rand_pred)))"
      ],
      "execution_count": null,
      "outputs": [
        {
          "output_type": "stream",
          "text": [
            "              precision    recall  f1-score   support\n",
            "\n",
            "           0       0.73      0.73      0.73       316\n",
            "           1       0.73      0.73      0.73       316\n",
            "\n",
            "    accuracy                           0.73       632\n",
            "   macro avg       0.73      0.73      0.73       632\n",
            "weighted avg       0.73      0.73      0.73       632\n",
            "\n"
          ],
          "name": "stdout"
        }
      ]
    },
    {
      "cell_type": "code",
      "metadata": {
        "colab": {
          "base_uri": "https://localhost:8080/"
        },
        "id": "SJMLxln4ZJoK",
        "outputId": "201d4a86-8fdb-449e-e65a-06849fe3dddc"
      },
      "source": [
        "#Get roc_auc sore\n",
        "rand_prob = random_forest_model.predict_proba(x_test)[:,1]\n",
        "print('ROC_AUC: ', roc_auc_score(y_test, rand_prob))"
      ],
      "execution_count": null,
      "outputs": [
        {
          "output_type": "stream",
          "text": [
            "ROC_AUC:  0.6981202932222399\n"
          ],
          "name": "stdout"
        }
      ]
    },
    {
      "cell_type": "code",
      "metadata": {
        "id": "8H92rLyBxf0S",
        "colab": {
          "base_uri": "https://localhost:8080/",
          "height": 295
        },
        "outputId": "cf8cfb78-6405-4949-99b5-f9bbc228f0ff"
      },
      "source": [
        "# Plot roc curve\n",
        "fpr, tpr, thresholds = roc_curve(y_test, rand_prob)\n",
        "plt.plot(fpr, tpr)\n",
        "plt.xlabel('False positive rate')\n",
        "plt.ylabel('True Positive rate')"
      ],
      "execution_count": null,
      "outputs": [
        {
          "output_type": "execute_result",
          "data": {
            "text/plain": [
              "Text(0, 0.5, 'True Positive rate')"
            ]
          },
          "metadata": {
            "tags": []
          },
          "execution_count": 243
        },
        {
          "output_type": "display_data",
          "data": {
            "image/png": "[encoded data removed]",
            "text/plain": [
              "<Figure size 432x288 with 1 Axes>"
            ]
          },
          "metadata": {
            "tags": [],
            "needs_background": "light"
          }
        }
      ]
    },
    {
      "cell_type": "markdown",
      "metadata": {
        "id": "xSkzRpYbYaX0"
      },
      "source": [
        "The roc_auc score is pretty low, which explain the roc_curve above. The model is unable to distinguish between the two classes."
      ]
    },
    {
      "cell_type": "code",
      "metadata": {
        "id": "sQ70tW_cYLRf"
      },
      "source": [
        "# Define parameter grid for parameter tuning\n",
        "param_grid_rand = {\n",
        "    'max_depth': np.arange(80, 200, 10),\n",
        "    'min_samples_leaf': [2,3],\n",
        "    'n_estimators': [100, 200, 300, 500, 800]\n",
        "}\n",
        "# Perform cross validation\n",
        "grid_search_rand = GridSearchCV(estimator = RandomForestClassifier(), param_grid = param_grid_rand, cv = 3, n_jobs = -1, verbose = 0, scoring='roc_auc')"
      ],
      "execution_count": null,
      "outputs": []
    },
    {
      "cell_type": "code",
      "metadata": {
        "colab": {
          "base_uri": "https://localhost:8080/"
        },
        "id": "f5BUivvFY6Nj",
        "outputId": "ed0b1933-ddba-4bb0-b82a-2beed2d5b62d"
      },
      "source": [
        "# Get best parameters\n",
        "grid_search_rand.fit(x_train, y_train)\n",
        "grid_search_rand.best_params_"
      ],
      "execution_count": null,
      "outputs": [
        {
          "output_type": "execute_result",
          "data": {
            "text/plain": [
              "{'max_depth': 160, 'min_samples_leaf': 2, 'n_estimators': 100}"
            ]
          },
          "metadata": {
            "tags": []
          },
          "execution_count": 245
        }
      ]
    },
    {
      "cell_type": "code",
      "metadata": {
        "colab": {
          "base_uri": "https://localhost:8080/"
        },
        "id": "xHbJCjEdZPr2",
        "outputId": "868451ae-404b-4e15-af5d-b43b3f482f80"
      },
      "source": [
        "# Get the best score\n",
        "grid_search_rand.best_score_"
      ],
      "execution_count": null,
      "outputs": [
        {
          "output_type": "execute_result",
          "data": {
            "text/plain": [
              "0.7142535250761096"
            ]
          },
          "metadata": {
            "tags": []
          },
          "execution_count": 246
        }
      ]
    },
    {
      "cell_type": "code",
      "metadata": {
        "id": "9-x-lCglbgcX"
      },
      "source": [
        "# Use the best parameters\n",
        "improved_rand = RandomForestClassifier(max_depth=160, min_samples_leaf=2, n_estimators=100)\n",
        "improved_rand.fit(x_train, y_train)\n",
        "rand_pred = average(improved_rand.predict(x_test))\n",
        "rand_prob = improved_rand.predict_proba(x_test)[:, 1]"
      ],
      "execution_count": null,
      "outputs": []
    },
    {
      "cell_type": "code",
      "metadata": {
        "colab": {
          "base_uri": "https://localhost:8080/"
        },
        "id": "IAAW97BbfPEW",
        "outputId": "26330217-e995-4b08-bca8-c492f05999dc"
      },
      "source": [
        "print(confusion_matrix(y_true=y_test, y_pred=rand_pred))"
      ],
      "execution_count": null,
      "outputs": [
        {
          "output_type": "stream",
          "text": [
            "[[243  73]\n",
            " [ 80 236]]\n"
          ],
          "name": "stdout"
        }
      ]
    },
    {
      "cell_type": "code",
      "metadata": {
        "colab": {
          "base_uri": "https://localhost:8080/"
        },
        "id": "I48P8UcZBj_4",
        "outputId": "90a5178a-45a7-4c41-91b9-0ec8c6c083c0"
      },
      "source": [
        "print(classification_report(y_test,rand_pred))"
      ],
      "execution_count": null,
      "outputs": [
        {
          "output_type": "stream",
          "text": [
            "              precision    recall  f1-score   support\n",
            "\n",
            "           0       0.75      0.77      0.76       316\n",
            "           1       0.76      0.75      0.76       316\n",
            "\n",
            "    accuracy                           0.76       632\n",
            "   macro avg       0.76      0.76      0.76       632\n",
            "weighted avg       0.76      0.76      0.76       632\n",
            "\n"
          ],
          "name": "stdout"
        }
      ]
    },
    {
      "cell_type": "code",
      "metadata": {
        "colab": {
          "base_uri": "https://localhost:8080/"
        },
        "id": "0DffD2V_cjYc",
        "outputId": "60c04bad-41d7-4162-bd45-b46629851158"
      },
      "source": [
        "print('ROC_AUC: ', roc_auc_score(y_test,rand_prob))\n",
        "print('F1 Score: ', f1_score(y_test, rand_pred))"
      ],
      "execution_count": null,
      "outputs": [
        {
          "output_type": "stream",
          "text": [
            "ROC_AUC:  0.7226606313090851\n",
            "F1 Score:  0.7552\n"
          ],
          "name": "stdout"
        }
      ]
    },
    {
      "cell_type": "code",
      "metadata": {
        "colab": {
          "base_uri": "https://localhost:8080/",
          "height": 295
        },
        "id": "vT-JDkNdc8FF",
        "outputId": "78866c83-b9c2-4953-a71a-53fcbad3d395"
      },
      "source": [
        "# Plot roc curve\n",
        "fpr, tpr, thresholds = roc_curve(y_test, rand_pred)\n",
        "plt.plot(fpr, tpr)\n",
        "plt.xlabel('False positive rate')\n",
        "plt.ylabel('True Positive rate')"
      ],
      "execution_count": null,
      "outputs": [
        {
          "output_type": "execute_result",
          "data": {
            "text/plain": [
              "Text(0, 0.5, 'True Positive rate')"
            ]
          },
          "metadata": {
            "tags": []
          },
          "execution_count": 251
        },
        {
          "output_type": "display_data",
          "data": {
            "image/png": "[encoded data removed]",
            "text/plain": [
              "<Figure size 432x288 with 1 Axes>"
            ]
          },
          "metadata": {
            "tags": [],
            "needs_background": "light"
          }
        }
      ]
    },
    {
      "cell_type": "markdown",
      "metadata": {
        "id": "JTtNF-q8eBqW"
      },
      "source": [
        "## Convolution Neural Network\n",
        "\n",
        "CNNs are mostly prevalent in image classification, where the input is two dimensional pixel and color channel data in a process called feature learning. The same process can be applied to one dimensional sequences of data using a 1D CNN which are especially useful in deriving features from a fixed-length segment of the overall dataset.\n",
        "\n",
        "This makes the 1D CNN a suitable approach for our data which is video signal data over a fixed time frame [158 frames per video]"
      ]
    },
    {
      "cell_type": "code",
      "metadata": {
        "id": "GbAOp2m7d9jN",
        "colab": {
          "base_uri": "https://localhost:8080/"
        },
        "outputId": "a080e75c-cf48-4629-f117-b4770ead0e5a"
      },
      "source": [
        "# Reshape data for easy digestion by the cnn\n",
        "x_train_reshaped = np.expand_dims(x_train, axis=2)\n",
        "x_train_reshaped.shape"
      ],
      "execution_count": null,
      "outputs": [
        {
          "output_type": "execute_result",
          "data": {
            "text/plain": [
              "(1896, 4, 1)"
            ]
          },
          "metadata": {
            "tags": []
          },
          "execution_count": 252
        }
      ]
    },
    {
      "cell_type": "code",
      "metadata": {
        "colab": {
          "base_uri": "https://localhost:8080/"
        },
        "id": "hxcbfJu3jVKr",
        "outputId": "2c37486d-7c9d-4392-96f0-ff96c7cb51ff"
      },
      "source": [
        "x_test_reshaped = np.expand_dims(x_test, axis=2)\n",
        "x_test_reshaped.shape"
      ],
      "execution_count": null,
      "outputs": [
        {
          "output_type": "execute_result",
          "data": {
            "text/plain": [
              "(632, 4, 1)"
            ]
          },
          "metadata": {
            "tags": []
          },
          "execution_count": 253
        }
      ]
    },
    {
      "cell_type": "code",
      "metadata": {
        "colab": {
          "base_uri": "https://localhost:8080/"
        },
        "id": "gxMPhFiDjg5e",
        "outputId": "972cbf43-9083-4107-ffb1-551ed1076526"
      },
      "source": [
        "# Create model\n",
        "cnn_model = Sequential()\n",
        "\n",
        "cnn_model.add(Conv1D(64, kernel_size = 3, activation = 'relu', input_shape = (4,1)))\n",
        "cnn_model.add(Flatten())\n",
        "cnn_model.add(Dense(32, activation='relu'))\n",
        "cnn_model.add(Dense(16, activation = 'relu'))\n",
        "cnn_model.add(Dropout(0.2))\n",
        "cnn_model.add(Dense(1,activation = 'sigmoid'))\n",
        "\n",
        "## Compile Model ##\n",
        "optimizer = Adam(lr=0.00001)\n",
        "cnn_model.compile(loss='binary_crossentropy', optimizer=optimizer, metrics=['accuracy'])\n",
        "\n",
        "## Train Model and Check Validation Accuracy ##\n",
        "cnn_model.fit(x_train_reshaped, y_train, validation_data = (x_test_reshaped,y_test), epochs = 500)"
      ],
      "execution_count": null,
      "outputs": [
        {
          "output_type": "stream",
          "text": [
            "Epoch 1/500\n",
            "60/60 [==============================] - 0s 4ms/step - loss: 0.6465 - accuracy: 0.5401 - val_loss: 0.6651 - val_accuracy: 0.5538\n",
            "Epoch 2/500\n",
            "60/60 [==============================] - 0s 2ms/step - loss: 0.6453 - accuracy: 0.5670 - val_loss: 0.6630 - val_accuracy: 0.5870\n",
            "Epoch 3/500\n",
            "60/60 [==============================] - 0s 2ms/step - loss: 0.6413 - accuracy: 0.5670 - val_loss: 0.6608 - val_accuracy: 0.6013\n",
            "Epoch 4/500\n",
            "60/60 [==============================] - 0s 2ms/step - loss: 0.6408 - accuracy: 0.5907 - val_loss: 0.6586 - val_accuracy: 0.6282\n",
            "Epoch 5/500\n",
            "60/60 [==============================] - 0s 2ms/step - loss: 0.6388 - accuracy: 0.5970 - val_loss: 0.6565 - val_accuracy: 0.6440\n",
            "Epoch 6/500\n",
            "60/60 [==============================] - 0s 2ms/step - loss: 0.6371 - accuracy: 0.5955 - val_loss: 0.6546 - val_accuracy: 0.6503\n",
            "Epoch 7/500\n",
            "60/60 [==============================] - 0s 2ms/step - loss: 0.6348 - accuracy: 0.5960 - val_loss: 0.6528 - val_accuracy: 0.6487\n",
            "Epoch 8/500\n",
            "60/60 [==============================] - 0s 2ms/step - loss: 0.6306 - accuracy: 0.6102 - val_loss: 0.6510 - val_accuracy: 0.6487\n",
            "Epoch 9/500\n",
            "60/60 [==============================] - 0s 2ms/step - loss: 0.6315 - accuracy: 0.6145 - val_loss: 0.6498 - val_accuracy: 0.6566\n",
            "Epoch 10/500\n",
            "60/60 [==============================] - 0s 2ms/step - loss: 0.6260 - accuracy: 0.6118 - val_loss: 0.6486 - val_accuracy: 0.6535\n",
            "Epoch 11/500\n",
            "60/60 [==============================] - 0s 2ms/step - loss: 0.6273 - accuracy: 0.6176 - val_loss: 0.6478 - val_accuracy: 0.6535\n",
            "Epoch 12/500\n",
            "60/60 [==============================] - 0s 2ms/step - loss: 0.6265 - accuracy: 0.6208 - val_loss: 0.6470 - val_accuracy: 0.6503\n",
            "Epoch 13/500\n",
            "60/60 [==============================] - 0s 2ms/step - loss: 0.6237 - accuracy: 0.6334 - val_loss: 0.6465 - val_accuracy: 0.6487\n",
            "Epoch 14/500\n",
            "60/60 [==============================] - 0s 2ms/step - loss: 0.6221 - accuracy: 0.6276 - val_loss: 0.6462 - val_accuracy: 0.6392\n",
            "Epoch 15/500\n",
            "60/60 [==============================] - 0s 2ms/step - loss: 0.6185 - accuracy: 0.6366 - val_loss: 0.6459 - val_accuracy: 0.6377\n",
            "Epoch 16/500\n",
            "60/60 [==============================] - 0s 2ms/step - loss: 0.6158 - accuracy: 0.6424 - val_loss: 0.6458 - val_accuracy: 0.6313\n",
            "Epoch 17/500\n",
            "60/60 [==============================] - 0s 2ms/step - loss: 0.6174 - accuracy: 0.6414 - val_loss: 0.6457 - val_accuracy: 0.6250\n",
            "Epoch 18/500\n",
            "60/60 [==============================] - 0s 2ms/step - loss: 0.6133 - accuracy: 0.6382 - val_loss: 0.6457 - val_accuracy: 0.6234\n",
            "Epoch 19/500\n",
            "60/60 [==============================] - 0s 2ms/step - loss: 0.6126 - accuracy: 0.6508 - val_loss: 0.6460 - val_accuracy: 0.6139\n",
            "Epoch 20/500\n",
            "60/60 [==============================] - 0s 2ms/step - loss: 0.6113 - accuracy: 0.6477 - val_loss: 0.6459 - val_accuracy: 0.6092\n",
            "Epoch 21/500\n",
            "60/60 [==============================] - 0s 2ms/step - loss: 0.6103 - accuracy: 0.6403 - val_loss: 0.6465 - val_accuracy: 0.6044\n",
            "Epoch 22/500\n",
            "60/60 [==============================] - 0s 2ms/step - loss: 0.6103 - accuracy: 0.6498 - val_loss: 0.6467 - val_accuracy: 0.6028\n",
            "Epoch 23/500\n",
            "60/60 [==============================] - 0s 2ms/step - loss: 0.6050 - accuracy: 0.6535 - val_loss: 0.6469 - val_accuracy: 0.6013\n",
            "Epoch 24/500\n",
            "60/60 [==============================] - 0s 2ms/step - loss: 0.6061 - accuracy: 0.6414 - val_loss: 0.6477 - val_accuracy: 0.5934\n",
            "Epoch 25/500\n",
            "60/60 [==============================] - 0s 2ms/step - loss: 0.6048 - accuracy: 0.6503 - val_loss: 0.6485 - val_accuracy: 0.5902\n",
            "Epoch 26/500\n",
            "60/60 [==============================] - 0s 2ms/step - loss: 0.6023 - accuracy: 0.6498 - val_loss: 0.6491 - val_accuracy: 0.5870\n",
            "Epoch 27/500\n",
            "60/60 [==============================] - 0s 2ms/step - loss: 0.5999 - accuracy: 0.6540 - val_loss: 0.6499 - val_accuracy: 0.5823\n",
            "Epoch 28/500\n",
            "60/60 [==============================] - 0s 2ms/step - loss: 0.6000 - accuracy: 0.6588 - val_loss: 0.6503 - val_accuracy: 0.5791\n",
            "Epoch 29/500\n",
            "60/60 [==============================] - 0s 2ms/step - loss: 0.5999 - accuracy: 0.6566 - val_loss: 0.6516 - val_accuracy: 0.5775\n",
            "Epoch 30/500\n",
            "60/60 [==============================] - 0s 2ms/step - loss: 0.5973 - accuracy: 0.6540 - val_loss: 0.6526 - val_accuracy: 0.5665\n",
            "Epoch 31/500\n",
            "60/60 [==============================] - 0s 2ms/step - loss: 0.5949 - accuracy: 0.6524 - val_loss: 0.6532 - val_accuracy: 0.5665\n",
            "Epoch 32/500\n",
            "60/60 [==============================] - 0s 2ms/step - loss: 0.5935 - accuracy: 0.6619 - val_loss: 0.6542 - val_accuracy: 0.5696\n",
            "Epoch 33/500\n",
            "60/60 [==============================] - 0s 2ms/step - loss: 0.5939 - accuracy: 0.6561 - val_loss: 0.6553 - val_accuracy: 0.5696\n",
            "Epoch 34/500\n",
            "60/60 [==============================] - 0s 2ms/step - loss: 0.5941 - accuracy: 0.6566 - val_loss: 0.6565 - val_accuracy: 0.5696\n",
            "Epoch 35/500\n",
            "60/60 [==============================] - 0s 2ms/step - loss: 0.5897 - accuracy: 0.6603 - val_loss: 0.6572 - val_accuracy: 0.5633\n",
            "Epoch 36/500\n",
            "60/60 [==============================] - 0s 2ms/step - loss: 0.5911 - accuracy: 0.6614 - val_loss: 0.6583 - val_accuracy: 0.5633\n",
            "Epoch 37/500\n",
            "60/60 [==============================] - 0s 2ms/step - loss: 0.5894 - accuracy: 0.6635 - val_loss: 0.6593 - val_accuracy: 0.5585\n",
            "Epoch 38/500\n",
            "60/60 [==============================] - 0s 2ms/step - loss: 0.5883 - accuracy: 0.6688 - val_loss: 0.6604 - val_accuracy: 0.5585\n",
            "Epoch 39/500\n",
            "60/60 [==============================] - 0s 2ms/step - loss: 0.5880 - accuracy: 0.6651 - val_loss: 0.6613 - val_accuracy: 0.5570\n",
            "Epoch 40/500\n",
            "60/60 [==============================] - 0s 2ms/step - loss: 0.5892 - accuracy: 0.6682 - val_loss: 0.6623 - val_accuracy: 0.5585\n",
            "Epoch 41/500\n",
            "60/60 [==============================] - 0s 2ms/step - loss: 0.5924 - accuracy: 0.6646 - val_loss: 0.6623 - val_accuracy: 0.5601\n",
            "Epoch 42/500\n",
            "60/60 [==============================] - 0s 2ms/step - loss: 0.5871 - accuracy: 0.6640 - val_loss: 0.6628 - val_accuracy: 0.5585\n",
            "Epoch 43/500\n",
            "60/60 [==============================] - 0s 2ms/step - loss: 0.5875 - accuracy: 0.6598 - val_loss: 0.6633 - val_accuracy: 0.5601\n",
            "Epoch 44/500\n",
            "60/60 [==============================] - 0s 2ms/step - loss: 0.5864 - accuracy: 0.6667 - val_loss: 0.6637 - val_accuracy: 0.5601\n",
            "Epoch 45/500\n",
            "60/60 [==============================] - 0s 2ms/step - loss: 0.5830 - accuracy: 0.6693 - val_loss: 0.6641 - val_accuracy: 0.5601\n",
            "Epoch 46/500\n",
            "60/60 [==============================] - 0s 2ms/step - loss: 0.5883 - accuracy: 0.6667 - val_loss: 0.6647 - val_accuracy: 0.5633\n",
            "Epoch 47/500\n",
            "60/60 [==============================] - 0s 2ms/step - loss: 0.5856 - accuracy: 0.6672 - val_loss: 0.6650 - val_accuracy: 0.5649\n",
            "Epoch 48/500\n",
            "60/60 [==============================] - 0s 2ms/step - loss: 0.5804 - accuracy: 0.6767 - val_loss: 0.6656 - val_accuracy: 0.5665\n",
            "Epoch 49/500\n",
            "60/60 [==============================] - 0s 2ms/step - loss: 0.5826 - accuracy: 0.6693 - val_loss: 0.6657 - val_accuracy: 0.5665\n",
            "Epoch 50/500\n",
            "60/60 [==============================] - 0s 2ms/step - loss: 0.5785 - accuracy: 0.6630 - val_loss: 0.6658 - val_accuracy: 0.5680\n",
            "Epoch 51/500\n",
            "60/60 [==============================] - 0s 2ms/step - loss: 0.5795 - accuracy: 0.6762 - val_loss: 0.6667 - val_accuracy: 0.5696\n",
            "Epoch 52/500\n",
            "60/60 [==============================] - 0s 2ms/step - loss: 0.5816 - accuracy: 0.6741 - val_loss: 0.6673 - val_accuracy: 0.5712\n",
            "Epoch 53/500\n",
            "60/60 [==============================] - 0s 2ms/step - loss: 0.5777 - accuracy: 0.6725 - val_loss: 0.6677 - val_accuracy: 0.5728\n",
            "Epoch 54/500\n",
            "60/60 [==============================] - 0s 2ms/step - loss: 0.5776 - accuracy: 0.6698 - val_loss: 0.6677 - val_accuracy: 0.5744\n",
            "Epoch 55/500\n",
            "60/60 [==============================] - 0s 2ms/step - loss: 0.5790 - accuracy: 0.6762 - val_loss: 0.6685 - val_accuracy: 0.5775\n",
            "Epoch 56/500\n",
            "60/60 [==============================] - 0s 2ms/step - loss: 0.5749 - accuracy: 0.6709 - val_loss: 0.6687 - val_accuracy: 0.5791\n",
            "Epoch 57/500\n",
            "60/60 [==============================] - 0s 2ms/step - loss: 0.5756 - accuracy: 0.6735 - val_loss: 0.6693 - val_accuracy: 0.5807\n",
            "Epoch 58/500\n",
            "60/60 [==============================] - 0s 2ms/step - loss: 0.5760 - accuracy: 0.6741 - val_loss: 0.6694 - val_accuracy: 0.5807\n",
            "Epoch 59/500\n",
            "60/60 [==============================] - 0s 2ms/step - loss: 0.5747 - accuracy: 0.6809 - val_loss: 0.6700 - val_accuracy: 0.5775\n",
            "Epoch 60/500\n",
            "60/60 [==============================] - 0s 2ms/step - loss: 0.5777 - accuracy: 0.6698 - val_loss: 0.6705 - val_accuracy: 0.5791\n",
            "Epoch 61/500\n",
            "60/60 [==============================] - 0s 2ms/step - loss: 0.5743 - accuracy: 0.6751 - val_loss: 0.6709 - val_accuracy: 0.5791\n",
            "Epoch 62/500\n",
            "60/60 [==============================] - 0s 2ms/step - loss: 0.5691 - accuracy: 0.6788 - val_loss: 0.6711 - val_accuracy: 0.5839\n",
            "Epoch 63/500\n",
            "60/60 [==============================] - 0s 2ms/step - loss: 0.5751 - accuracy: 0.6725 - val_loss: 0.6710 - val_accuracy: 0.5854\n",
            "Epoch 64/500\n",
            "60/60 [==============================] - 0s 2ms/step - loss: 0.5738 - accuracy: 0.6751 - val_loss: 0.6716 - val_accuracy: 0.5870\n",
            "Epoch 65/500\n",
            "60/60 [==============================] - 0s 2ms/step - loss: 0.5724 - accuracy: 0.6809 - val_loss: 0.6720 - val_accuracy: 0.5870\n",
            "Epoch 66/500\n",
            "60/60 [==============================] - 0s 2ms/step - loss: 0.5697 - accuracy: 0.6825 - val_loss: 0.6727 - val_accuracy: 0.5870\n",
            "Epoch 67/500\n",
            "60/60 [==============================] - 0s 2ms/step - loss: 0.5704 - accuracy: 0.6751 - val_loss: 0.6726 - val_accuracy: 0.5886\n",
            "Epoch 68/500\n",
            "60/60 [==============================] - 0s 2ms/step - loss: 0.5735 - accuracy: 0.6793 - val_loss: 0.6735 - val_accuracy: 0.5918\n",
            "Epoch 69/500\n",
            "60/60 [==============================] - 0s 2ms/step - loss: 0.5703 - accuracy: 0.6756 - val_loss: 0.6740 - val_accuracy: 0.5902\n",
            "Epoch 70/500\n",
            "60/60 [==============================] - 0s 2ms/step - loss: 0.5662 - accuracy: 0.6814 - val_loss: 0.6752 - val_accuracy: 0.5934\n",
            "Epoch 71/500\n",
            "60/60 [==============================] - 0s 2ms/step - loss: 0.5692 - accuracy: 0.6835 - val_loss: 0.6764 - val_accuracy: 0.5934\n",
            "Epoch 72/500\n",
            "60/60 [==============================] - 0s 2ms/step - loss: 0.5717 - accuracy: 0.6809 - val_loss: 0.6743 - val_accuracy: 0.5949\n",
            "Epoch 73/500\n",
            "60/60 [==============================] - 0s 2ms/step - loss: 0.5698 - accuracy: 0.6777 - val_loss: 0.6739 - val_accuracy: 0.5949\n",
            "Epoch 74/500\n",
            "60/60 [==============================] - 0s 2ms/step - loss: 0.5701 - accuracy: 0.6799 - val_loss: 0.6753 - val_accuracy: 0.5965\n",
            "Epoch 75/500\n",
            "60/60 [==============================] - 0s 2ms/step - loss: 0.5606 - accuracy: 0.6825 - val_loss: 0.6755 - val_accuracy: 0.5965\n",
            "Epoch 76/500\n",
            "60/60 [==============================] - 0s 2ms/step - loss: 0.5676 - accuracy: 0.6835 - val_loss: 0.6772 - val_accuracy: 0.5949\n",
            "Epoch 77/500\n",
            "60/60 [==============================] - 0s 2ms/step - loss: 0.5672 - accuracy: 0.6878 - val_loss: 0.6771 - val_accuracy: 0.5965\n",
            "Epoch 78/500\n",
            "60/60 [==============================] - 0s 2ms/step - loss: 0.5668 - accuracy: 0.6867 - val_loss: 0.6771 - val_accuracy: 0.5981\n",
            "Epoch 79/500\n",
            "60/60 [==============================] - 0s 2ms/step - loss: 0.5631 - accuracy: 0.6904 - val_loss: 0.6776 - val_accuracy: 0.5981\n",
            "Epoch 80/500\n",
            "60/60 [==============================] - 0s 2ms/step - loss: 0.5631 - accuracy: 0.6793 - val_loss: 0.6777 - val_accuracy: 0.5997\n",
            "Epoch 81/500\n",
            "60/60 [==============================] - 0s 2ms/step - loss: 0.5639 - accuracy: 0.6920 - val_loss: 0.6778 - val_accuracy: 0.5997\n",
            "Epoch 82/500\n",
            "60/60 [==============================] - 0s 2ms/step - loss: 0.5649 - accuracy: 0.6846 - val_loss: 0.6783 - val_accuracy: 0.5997\n",
            "Epoch 83/500\n",
            "60/60 [==============================] - 0s 2ms/step - loss: 0.5658 - accuracy: 0.6820 - val_loss: 0.6778 - val_accuracy: 0.6013\n",
            "Epoch 84/500\n",
            "60/60 [==============================] - 0s 2ms/step - loss: 0.5637 - accuracy: 0.6883 - val_loss: 0.6788 - val_accuracy: 0.5997\n",
            "Epoch 85/500\n",
            "60/60 [==============================] - 0s 2ms/step - loss: 0.5628 - accuracy: 0.6893 - val_loss: 0.6791 - val_accuracy: 0.6028\n",
            "Epoch 86/500\n",
            "60/60 [==============================] - 0s 2ms/step - loss: 0.5603 - accuracy: 0.6925 - val_loss: 0.6798 - val_accuracy: 0.6044\n",
            "Epoch 87/500\n",
            "60/60 [==============================] - 0s 2ms/step - loss: 0.5645 - accuracy: 0.6915 - val_loss: 0.6801 - val_accuracy: 0.6060\n",
            "Epoch 88/500\n",
            "60/60 [==============================] - 0s 2ms/step - loss: 0.5609 - accuracy: 0.6915 - val_loss: 0.6805 - val_accuracy: 0.6076\n",
            "Epoch 89/500\n",
            "60/60 [==============================] - 0s 2ms/step - loss: 0.5617 - accuracy: 0.6857 - val_loss: 0.6805 - val_accuracy: 0.6076\n",
            "Epoch 90/500\n",
            "60/60 [==============================] - 0s 2ms/step - loss: 0.5624 - accuracy: 0.6872 - val_loss: 0.6808 - val_accuracy: 0.6076\n",
            "Epoch 91/500\n",
            "60/60 [==============================] - 0s 2ms/step - loss: 0.5619 - accuracy: 0.6930 - val_loss: 0.6813 - val_accuracy: 0.6076\n",
            "Epoch 92/500\n",
            "60/60 [==============================] - 0s 2ms/step - loss: 0.5598 - accuracy: 0.6941 - val_loss: 0.6816 - val_accuracy: 0.6108\n",
            "Epoch 93/500\n",
            "60/60 [==============================] - 0s 2ms/step - loss: 0.5604 - accuracy: 0.6941 - val_loss: 0.6825 - val_accuracy: 0.6123\n",
            "Epoch 94/500\n",
            "60/60 [==============================] - 0s 2ms/step - loss: 0.5553 - accuracy: 0.6936 - val_loss: 0.6847 - val_accuracy: 0.6123\n",
            "Epoch 95/500\n",
            "60/60 [==============================] - 0s 2ms/step - loss: 0.5614 - accuracy: 0.6957 - val_loss: 0.6834 - val_accuracy: 0.6108\n",
            "Epoch 96/500\n",
            "60/60 [==============================] - 0s 2ms/step - loss: 0.5593 - accuracy: 0.6941 - val_loss: 0.6836 - val_accuracy: 0.6123\n",
            "Epoch 97/500\n",
            "60/60 [==============================] - 0s 2ms/step - loss: 0.5585 - accuracy: 0.6941 - val_loss: 0.6835 - val_accuracy: 0.6139\n",
            "Epoch 98/500\n",
            "60/60 [==============================] - 0s 2ms/step - loss: 0.5598 - accuracy: 0.6909 - val_loss: 0.6840 - val_accuracy: 0.6139\n",
            "Epoch 99/500\n",
            "60/60 [==============================] - 0s 2ms/step - loss: 0.5609 - accuracy: 0.6967 - val_loss: 0.6833 - val_accuracy: 0.6155\n",
            "Epoch 100/500\n",
            "60/60 [==============================] - 0s 2ms/step - loss: 0.5589 - accuracy: 0.6936 - val_loss: 0.6840 - val_accuracy: 0.6155\n",
            "Epoch 101/500\n",
            "60/60 [==============================] - 0s 2ms/step - loss: 0.5548 - accuracy: 0.6967 - val_loss: 0.6839 - val_accuracy: 0.6139\n",
            "Epoch 102/500\n",
            "60/60 [==============================] - 0s 2ms/step - loss: 0.5578 - accuracy: 0.6888 - val_loss: 0.6842 - val_accuracy: 0.6139\n",
            "Epoch 103/500\n",
            "60/60 [==============================] - 0s 2ms/step - loss: 0.5552 - accuracy: 0.6967 - val_loss: 0.6841 - val_accuracy: 0.6139\n",
            "Epoch 104/500\n",
            "60/60 [==============================] - 0s 2ms/step - loss: 0.5603 - accuracy: 0.6994 - val_loss: 0.6841 - val_accuracy: 0.6139\n",
            "Epoch 105/500\n",
            "60/60 [==============================] - 0s 2ms/step - loss: 0.5589 - accuracy: 0.6925 - val_loss: 0.6852 - val_accuracy: 0.6139\n",
            "Epoch 106/500\n",
            "60/60 [==============================] - 0s 2ms/step - loss: 0.5557 - accuracy: 0.6930 - val_loss: 0.6853 - val_accuracy: 0.6155\n",
            "Epoch 107/500\n",
            "60/60 [==============================] - 0s 2ms/step - loss: 0.5572 - accuracy: 0.7004 - val_loss: 0.6855 - val_accuracy: 0.6171\n",
            "Epoch 108/500\n",
            "60/60 [==============================] - 0s 2ms/step - loss: 0.5553 - accuracy: 0.6973 - val_loss: 0.6857 - val_accuracy: 0.6171\n",
            "Epoch 109/500\n",
            "60/60 [==============================] - 0s 2ms/step - loss: 0.5575 - accuracy: 0.6957 - val_loss: 0.6860 - val_accuracy: 0.6171\n",
            "Epoch 110/500\n",
            "60/60 [==============================] - 0s 2ms/step - loss: 0.5519 - accuracy: 0.7041 - val_loss: 0.6865 - val_accuracy: 0.6155\n",
            "Epoch 111/500\n",
            "60/60 [==============================] - 0s 2ms/step - loss: 0.5522 - accuracy: 0.6946 - val_loss: 0.6870 - val_accuracy: 0.6155\n",
            "Epoch 112/500\n",
            "60/60 [==============================] - 0s 2ms/step - loss: 0.5541 - accuracy: 0.6946 - val_loss: 0.6864 - val_accuracy: 0.6155\n",
            "Epoch 113/500\n",
            "60/60 [==============================] - 0s 2ms/step - loss: 0.5462 - accuracy: 0.6967 - val_loss: 0.6871 - val_accuracy: 0.6155\n",
            "Epoch 114/500\n",
            "60/60 [==============================] - 0s 2ms/step - loss: 0.5513 - accuracy: 0.6946 - val_loss: 0.6873 - val_accuracy: 0.6155\n",
            "Epoch 115/500\n",
            "60/60 [==============================] - 0s 2ms/step - loss: 0.5528 - accuracy: 0.6967 - val_loss: 0.6882 - val_accuracy: 0.6139\n",
            "Epoch 116/500\n",
            "60/60 [==============================] - 0s 2ms/step - loss: 0.5551 - accuracy: 0.7015 - val_loss: 0.6883 - val_accuracy: 0.6139\n",
            "Epoch 117/500\n",
            "60/60 [==============================] - 0s 2ms/step - loss: 0.5551 - accuracy: 0.6999 - val_loss: 0.6881 - val_accuracy: 0.6155\n",
            "Epoch 118/500\n",
            "60/60 [==============================] - 0s 2ms/step - loss: 0.5518 - accuracy: 0.6930 - val_loss: 0.6888 - val_accuracy: 0.6139\n",
            "Epoch 119/500\n",
            "60/60 [==============================] - 0s 2ms/step - loss: 0.5490 - accuracy: 0.7004 - val_loss: 0.6895 - val_accuracy: 0.6155\n",
            "Epoch 120/500\n",
            "60/60 [==============================] - 0s 2ms/step - loss: 0.5510 - accuracy: 0.6909 - val_loss: 0.6908 - val_accuracy: 0.6155\n",
            "Epoch 121/500\n",
            "60/60 [==============================] - 0s 2ms/step - loss: 0.5508 - accuracy: 0.6973 - val_loss: 0.6909 - val_accuracy: 0.6155\n",
            "Epoch 122/500\n",
            "60/60 [==============================] - 0s 2ms/step - loss: 0.5529 - accuracy: 0.6988 - val_loss: 0.6908 - val_accuracy: 0.6155\n",
            "Epoch 123/500\n",
            "60/60 [==============================] - 0s 2ms/step - loss: 0.5549 - accuracy: 0.6999 - val_loss: 0.6903 - val_accuracy: 0.6155\n",
            "Epoch 124/500\n",
            "60/60 [==============================] - 0s 2ms/step - loss: 0.5471 - accuracy: 0.6973 - val_loss: 0.6906 - val_accuracy: 0.6155\n",
            "Epoch 125/500\n",
            "60/60 [==============================] - 0s 2ms/step - loss: 0.5516 - accuracy: 0.6951 - val_loss: 0.6905 - val_accuracy: 0.6155\n",
            "Epoch 126/500\n",
            "60/60 [==============================] - 0s 2ms/step - loss: 0.5540 - accuracy: 0.6962 - val_loss: 0.6906 - val_accuracy: 0.6155\n",
            "Epoch 127/500\n",
            "60/60 [==============================] - 0s 2ms/step - loss: 0.5512 - accuracy: 0.7052 - val_loss: 0.6907 - val_accuracy: 0.6171\n",
            "Epoch 128/500\n",
            "60/60 [==============================] - 0s 2ms/step - loss: 0.5473 - accuracy: 0.7020 - val_loss: 0.6918 - val_accuracy: 0.6187\n",
            "Epoch 129/500\n",
            "60/60 [==============================] - 0s 2ms/step - loss: 0.5517 - accuracy: 0.7004 - val_loss: 0.6924 - val_accuracy: 0.6187\n",
            "Epoch 130/500\n",
            "60/60 [==============================] - 0s 2ms/step - loss: 0.5541 - accuracy: 0.6967 - val_loss: 0.6924 - val_accuracy: 0.6187\n",
            "Epoch 131/500\n",
            "60/60 [==============================] - 0s 2ms/step - loss: 0.5489 - accuracy: 0.7025 - val_loss: 0.6918 - val_accuracy: 0.6187\n",
            "Epoch 132/500\n",
            "60/60 [==============================] - 0s 2ms/step - loss: 0.5517 - accuracy: 0.6988 - val_loss: 0.6927 - val_accuracy: 0.6187\n",
            "Epoch 133/500\n",
            "60/60 [==============================] - 0s 2ms/step - loss: 0.5534 - accuracy: 0.7062 - val_loss: 0.6930 - val_accuracy: 0.6218\n",
            "Epoch 134/500\n",
            "60/60 [==============================] - 0s 2ms/step - loss: 0.5449 - accuracy: 0.7057 - val_loss: 0.6926 - val_accuracy: 0.6218\n",
            "Epoch 135/500\n",
            "60/60 [==============================] - 0s 2ms/step - loss: 0.5462 - accuracy: 0.7068 - val_loss: 0.6929 - val_accuracy: 0.6250\n",
            "Epoch 136/500\n",
            "60/60 [==============================] - 0s 2ms/step - loss: 0.5497 - accuracy: 0.7020 - val_loss: 0.6927 - val_accuracy: 0.6282\n",
            "Epoch 137/500\n",
            "60/60 [==============================] - 0s 2ms/step - loss: 0.5498 - accuracy: 0.7036 - val_loss: 0.6926 - val_accuracy: 0.6282\n",
            "Epoch 138/500\n",
            "60/60 [==============================] - 0s 2ms/step - loss: 0.5485 - accuracy: 0.7062 - val_loss: 0.6924 - val_accuracy: 0.6282\n",
            "Epoch 139/500\n",
            "60/60 [==============================] - 0s 2ms/step - loss: 0.5515 - accuracy: 0.6978 - val_loss: 0.6926 - val_accuracy: 0.6282\n",
            "Epoch 140/500\n",
            "60/60 [==============================] - 0s 2ms/step - loss: 0.5449 - accuracy: 0.7126 - val_loss: 0.6922 - val_accuracy: 0.6282\n",
            "Epoch 141/500\n",
            "60/60 [==============================] - 0s 2ms/step - loss: 0.5483 - accuracy: 0.6988 - val_loss: 0.6918 - val_accuracy: 0.6282\n",
            "Epoch 142/500\n",
            "60/60 [==============================] - 0s 2ms/step - loss: 0.5443 - accuracy: 0.7015 - val_loss: 0.6924 - val_accuracy: 0.6282\n",
            "Epoch 143/500\n",
            "60/60 [==============================] - 0s 2ms/step - loss: 0.5456 - accuracy: 0.7115 - val_loss: 0.6931 - val_accuracy: 0.6282\n",
            "Epoch 144/500\n",
            "60/60 [==============================] - 0s 2ms/step - loss: 0.5480 - accuracy: 0.7020 - val_loss: 0.6931 - val_accuracy: 0.6282\n",
            "Epoch 145/500\n",
            "60/60 [==============================] - 0s 2ms/step - loss: 0.5414 - accuracy: 0.7004 - val_loss: 0.6938 - val_accuracy: 0.6282\n",
            "Epoch 146/500\n",
            "60/60 [==============================] - 0s 2ms/step - loss: 0.5485 - accuracy: 0.7041 - val_loss: 0.6936 - val_accuracy: 0.6282\n",
            "Epoch 147/500\n",
            "60/60 [==============================] - 0s 2ms/step - loss: 0.5452 - accuracy: 0.7036 - val_loss: 0.6938 - val_accuracy: 0.6282\n",
            "Epoch 148/500\n",
            "60/60 [==============================] - 0s 2ms/step - loss: 0.5432 - accuracy: 0.7099 - val_loss: 0.6939 - val_accuracy: 0.6282\n",
            "Epoch 149/500\n",
            "60/60 [==============================] - 0s 2ms/step - loss: 0.5412 - accuracy: 0.7031 - val_loss: 0.6941 - val_accuracy: 0.6282\n",
            "Epoch 150/500\n",
            "60/60 [==============================] - 0s 2ms/step - loss: 0.5496 - accuracy: 0.7057 - val_loss: 0.6942 - val_accuracy: 0.6282\n",
            "Epoch 151/500\n",
            "60/60 [==============================] - 0s 2ms/step - loss: 0.5517 - accuracy: 0.6983 - val_loss: 0.6936 - val_accuracy: 0.6282\n",
            "Epoch 152/500\n",
            "60/60 [==============================] - 0s 2ms/step - loss: 0.5483 - accuracy: 0.7036 - val_loss: 0.6931 - val_accuracy: 0.6266\n",
            "Epoch 153/500\n",
            "60/60 [==============================] - 0s 2ms/step - loss: 0.5480 - accuracy: 0.7078 - val_loss: 0.6924 - val_accuracy: 0.6282\n",
            "Epoch 154/500\n",
            "60/60 [==============================] - 0s 2ms/step - loss: 0.5418 - accuracy: 0.7089 - val_loss: 0.6924 - val_accuracy: 0.6282\n",
            "Epoch 155/500\n",
            "60/60 [==============================] - 0s 2ms/step - loss: 0.5455 - accuracy: 0.7020 - val_loss: 0.6921 - val_accuracy: 0.6297\n",
            "Epoch 156/500\n",
            "60/60 [==============================] - 0s 2ms/step - loss: 0.5487 - accuracy: 0.7009 - val_loss: 0.6921 - val_accuracy: 0.6297\n",
            "Epoch 157/500\n",
            "60/60 [==============================] - 0s 2ms/step - loss: 0.5475 - accuracy: 0.7020 - val_loss: 0.6921 - val_accuracy: 0.6297\n",
            "Epoch 158/500\n",
            "60/60 [==============================] - 0s 2ms/step - loss: 0.5442 - accuracy: 0.7110 - val_loss: 0.6930 - val_accuracy: 0.6297\n",
            "Epoch 159/500\n",
            "60/60 [==============================] - 0s 2ms/step - loss: 0.5425 - accuracy: 0.7083 - val_loss: 0.6937 - val_accuracy: 0.6297\n",
            "Epoch 160/500\n",
            "60/60 [==============================] - 0s 2ms/step - loss: 0.5471 - accuracy: 0.7073 - val_loss: 0.6931 - val_accuracy: 0.6297\n",
            "Epoch 161/500\n",
            "60/60 [==============================] - 0s 2ms/step - loss: 0.5432 - accuracy: 0.7078 - val_loss: 0.6937 - val_accuracy: 0.6297\n",
            "Epoch 162/500\n",
            "60/60 [==============================] - 0s 2ms/step - loss: 0.5460 - accuracy: 0.7083 - val_loss: 0.6943 - val_accuracy: 0.6297\n",
            "Epoch 163/500\n",
            "60/60 [==============================] - 0s 2ms/step - loss: 0.5448 - accuracy: 0.7068 - val_loss: 0.6940 - val_accuracy: 0.6282\n",
            "Epoch 164/500\n",
            "60/60 [==============================] - 0s 2ms/step - loss: 0.5408 - accuracy: 0.7078 - val_loss: 0.6945 - val_accuracy: 0.6282\n",
            "Epoch 165/500\n",
            "60/60 [==============================] - 0s 2ms/step - loss: 0.5442 - accuracy: 0.7089 - val_loss: 0.6945 - val_accuracy: 0.6297\n",
            "Epoch 166/500\n",
            "60/60 [==============================] - 0s 2ms/step - loss: 0.5432 - accuracy: 0.7025 - val_loss: 0.6948 - val_accuracy: 0.6297\n",
            "Epoch 167/500\n",
            "60/60 [==============================] - 0s 2ms/step - loss: 0.5395 - accuracy: 0.7104 - val_loss: 0.6948 - val_accuracy: 0.6297\n",
            "Epoch 168/500\n",
            "60/60 [==============================] - 0s 2ms/step - loss: 0.5379 - accuracy: 0.7089 - val_loss: 0.6948 - val_accuracy: 0.6297\n",
            "Epoch 169/500\n",
            "60/60 [==============================] - 0s 2ms/step - loss: 0.5400 - accuracy: 0.7099 - val_loss: 0.6952 - val_accuracy: 0.6297\n",
            "Epoch 170/500\n",
            "60/60 [==============================] - 0s 2ms/step - loss: 0.5480 - accuracy: 0.7068 - val_loss: 0.6947 - val_accuracy: 0.6297\n",
            "Epoch 171/500\n",
            "60/60 [==============================] - 0s 2ms/step - loss: 0.5388 - accuracy: 0.7036 - val_loss: 0.6954 - val_accuracy: 0.6297\n",
            "Epoch 172/500\n",
            "60/60 [==============================] - 0s 2ms/step - loss: 0.5446 - accuracy: 0.7078 - val_loss: 0.6953 - val_accuracy: 0.6282\n",
            "Epoch 173/500\n",
            "60/60 [==============================] - 0s 2ms/step - loss: 0.5394 - accuracy: 0.7120 - val_loss: 0.6963 - val_accuracy: 0.6297\n",
            "Epoch 174/500\n",
            "60/60 [==============================] - 0s 2ms/step - loss: 0.5388 - accuracy: 0.7115 - val_loss: 0.6954 - val_accuracy: 0.6297\n",
            "Epoch 175/500\n",
            "60/60 [==============================] - 0s 2ms/step - loss: 0.5430 - accuracy: 0.7073 - val_loss: 0.6950 - val_accuracy: 0.6297\n",
            "Epoch 176/500\n",
            "60/60 [==============================] - 0s 2ms/step - loss: 0.5430 - accuracy: 0.7083 - val_loss: 0.6953 - val_accuracy: 0.6297\n",
            "Epoch 177/500\n",
            "60/60 [==============================] - 0s 2ms/step - loss: 0.5387 - accuracy: 0.7115 - val_loss: 0.6961 - val_accuracy: 0.6297\n",
            "Epoch 178/500\n",
            "60/60 [==============================] - 0s 2ms/step - loss: 0.5429 - accuracy: 0.7115 - val_loss: 0.6966 - val_accuracy: 0.6297\n",
            "Epoch 179/500\n",
            "60/60 [==============================] - 0s 2ms/step - loss: 0.5412 - accuracy: 0.7099 - val_loss: 0.6975 - val_accuracy: 0.6297\n",
            "Epoch 180/500\n",
            "60/60 [==============================] - 0s 2ms/step - loss: 0.5421 - accuracy: 0.7099 - val_loss: 0.6967 - val_accuracy: 0.6297\n",
            "Epoch 181/500\n",
            "60/60 [==============================] - 0s 2ms/step - loss: 0.5395 - accuracy: 0.7104 - val_loss: 0.6971 - val_accuracy: 0.6297\n",
            "Epoch 182/500\n",
            "60/60 [==============================] - 0s 2ms/step - loss: 0.5361 - accuracy: 0.7126 - val_loss: 0.6975 - val_accuracy: 0.6297\n",
            "Epoch 183/500\n",
            "60/60 [==============================] - 0s 2ms/step - loss: 0.5376 - accuracy: 0.7057 - val_loss: 0.6967 - val_accuracy: 0.6297\n",
            "Epoch 184/500\n",
            "60/60 [==============================] - 0s 2ms/step - loss: 0.5407 - accuracy: 0.7083 - val_loss: 0.6974 - val_accuracy: 0.6297\n",
            "Epoch 185/500\n",
            "60/60 [==============================] - 0s 2ms/step - loss: 0.5391 - accuracy: 0.7073 - val_loss: 0.6971 - val_accuracy: 0.6297\n",
            "Epoch 186/500\n",
            "60/60 [==============================] - 0s 2ms/step - loss: 0.5371 - accuracy: 0.7152 - val_loss: 0.6973 - val_accuracy: 0.6297\n",
            "Epoch 187/500\n",
            "60/60 [==============================] - 0s 2ms/step - loss: 0.5392 - accuracy: 0.7078 - val_loss: 0.6961 - val_accuracy: 0.6297\n",
            "Epoch 188/500\n",
            "60/60 [==============================] - 0s 2ms/step - loss: 0.5414 - accuracy: 0.7110 - val_loss: 0.6966 - val_accuracy: 0.6282\n",
            "Epoch 189/500\n",
            "60/60 [==============================] - 0s 2ms/step - loss: 0.5408 - accuracy: 0.7052 - val_loss: 0.6966 - val_accuracy: 0.6313\n",
            "Epoch 190/500\n",
            "60/60 [==============================] - 0s 2ms/step - loss: 0.5401 - accuracy: 0.7094 - val_loss: 0.6962 - val_accuracy: 0.6313\n",
            "Epoch 191/500\n",
            "60/60 [==============================] - 0s 2ms/step - loss: 0.5399 - accuracy: 0.7136 - val_loss: 0.6965 - val_accuracy: 0.6313\n",
            "Epoch 192/500\n",
            "60/60 [==============================] - 0s 2ms/step - loss: 0.5352 - accuracy: 0.7136 - val_loss: 0.6963 - val_accuracy: 0.6313\n",
            "Epoch 193/500\n",
            "60/60 [==============================] - 0s 2ms/step - loss: 0.5382 - accuracy: 0.7094 - val_loss: 0.6956 - val_accuracy: 0.6345\n",
            "Epoch 194/500\n",
            "60/60 [==============================] - 0s 2ms/step - loss: 0.5341 - accuracy: 0.7099 - val_loss: 0.6965 - val_accuracy: 0.6313\n",
            "Epoch 195/500\n",
            "60/60 [==============================] - 0s 2ms/step - loss: 0.5409 - accuracy: 0.7136 - val_loss: 0.6974 - val_accuracy: 0.6313\n",
            "Epoch 196/500\n",
            "60/60 [==============================] - 0s 2ms/step - loss: 0.5353 - accuracy: 0.7110 - val_loss: 0.6964 - val_accuracy: 0.6345\n",
            "Epoch 197/500\n",
            "60/60 [==============================] - 0s 2ms/step - loss: 0.5379 - accuracy: 0.7147 - val_loss: 0.6962 - val_accuracy: 0.6345\n",
            "Epoch 198/500\n",
            "60/60 [==============================] - 0s 2ms/step - loss: 0.5384 - accuracy: 0.7136 - val_loss: 0.6962 - val_accuracy: 0.6345\n",
            "Epoch 199/500\n",
            "60/60 [==============================] - 0s 2ms/step - loss: 0.5353 - accuracy: 0.7057 - val_loss: 0.6955 - val_accuracy: 0.6345\n",
            "Epoch 200/500\n",
            "60/60 [==============================] - 0s 2ms/step - loss: 0.5372 - accuracy: 0.7110 - val_loss: 0.6946 - val_accuracy: 0.6361\n",
            "Epoch 201/500\n",
            "60/60 [==============================] - 0s 2ms/step - loss: 0.5421 - accuracy: 0.7104 - val_loss: 0.6948 - val_accuracy: 0.6361\n",
            "Epoch 202/500\n",
            "60/60 [==============================] - 0s 2ms/step - loss: 0.5360 - accuracy: 0.7115 - val_loss: 0.6944 - val_accuracy: 0.6361\n",
            "Epoch 203/500\n",
            "60/60 [==============================] - 0s 2ms/step - loss: 0.5378 - accuracy: 0.7120 - val_loss: 0.6937 - val_accuracy: 0.6361\n",
            "Epoch 204/500\n",
            "60/60 [==============================] - 0s 2ms/step - loss: 0.5375 - accuracy: 0.7068 - val_loss: 0.6938 - val_accuracy: 0.6361\n",
            "Epoch 205/500\n",
            "60/60 [==============================] - 0s 2ms/step - loss: 0.5363 - accuracy: 0.7152 - val_loss: 0.6938 - val_accuracy: 0.6377\n",
            "Epoch 206/500\n",
            "60/60 [==============================] - 0s 2ms/step - loss: 0.5381 - accuracy: 0.7147 - val_loss: 0.6944 - val_accuracy: 0.6377\n",
            "Epoch 207/500\n",
            "60/60 [==============================] - 0s 2ms/step - loss: 0.5376 - accuracy: 0.7168 - val_loss: 0.6931 - val_accuracy: 0.6392\n",
            "Epoch 208/500\n",
            "60/60 [==============================] - 0s 2ms/step - loss: 0.5325 - accuracy: 0.7131 - val_loss: 0.6944 - val_accuracy: 0.6377\n",
            "Epoch 209/500\n",
            "60/60 [==============================] - 0s 2ms/step - loss: 0.5331 - accuracy: 0.7110 - val_loss: 0.6946 - val_accuracy: 0.6377\n",
            "Epoch 210/500\n",
            "60/60 [==============================] - 0s 2ms/step - loss: 0.5325 - accuracy: 0.7115 - val_loss: 0.6939 - val_accuracy: 0.6377\n",
            "Epoch 211/500\n",
            "60/60 [==============================] - 0s 2ms/step - loss: 0.5370 - accuracy: 0.7120 - val_loss: 0.6942 - val_accuracy: 0.6377\n",
            "Epoch 212/500\n",
            "60/60 [==============================] - 0s 2ms/step - loss: 0.5334 - accuracy: 0.7189 - val_loss: 0.6939 - val_accuracy: 0.6392\n",
            "Epoch 213/500\n",
            "60/60 [==============================] - 0s 2ms/step - loss: 0.5360 - accuracy: 0.7162 - val_loss: 0.6946 - val_accuracy: 0.6377\n",
            "Epoch 214/500\n",
            "60/60 [==============================] - 0s 2ms/step - loss: 0.5368 - accuracy: 0.7152 - val_loss: 0.6948 - val_accuracy: 0.6377\n",
            "Epoch 215/500\n",
            "60/60 [==============================] - 0s 2ms/step - loss: 0.5340 - accuracy: 0.7110 - val_loss: 0.6943 - val_accuracy: 0.6392\n",
            "Epoch 216/500\n",
            "60/60 [==============================] - 0s 2ms/step - loss: 0.5315 - accuracy: 0.7173 - val_loss: 0.6947 - val_accuracy: 0.6392\n",
            "Epoch 217/500\n",
            "60/60 [==============================] - 0s 2ms/step - loss: 0.5342 - accuracy: 0.7162 - val_loss: 0.6965 - val_accuracy: 0.6377\n",
            "Epoch 218/500\n",
            "60/60 [==============================] - 0s 2ms/step - loss: 0.5324 - accuracy: 0.7173 - val_loss: 0.6959 - val_accuracy: 0.6377\n",
            "Epoch 219/500\n",
            "60/60 [==============================] - 0s 2ms/step - loss: 0.5381 - accuracy: 0.7147 - val_loss: 0.6958 - val_accuracy: 0.6377\n",
            "Epoch 220/500\n",
            "60/60 [==============================] - 0s 2ms/step - loss: 0.5306 - accuracy: 0.7194 - val_loss: 0.6953 - val_accuracy: 0.6392\n",
            "Epoch 221/500\n",
            "60/60 [==============================] - 0s 2ms/step - loss: 0.5349 - accuracy: 0.7157 - val_loss: 0.6952 - val_accuracy: 0.6392\n",
            "Epoch 222/500\n",
            "60/60 [==============================] - 0s 2ms/step - loss: 0.5334 - accuracy: 0.7199 - val_loss: 0.6951 - val_accuracy: 0.6392\n",
            "Epoch 223/500\n",
            "60/60 [==============================] - 0s 2ms/step - loss: 0.5331 - accuracy: 0.7178 - val_loss: 0.6958 - val_accuracy: 0.6392\n",
            "Epoch 224/500\n",
            "60/60 [==============================] - 0s 2ms/step - loss: 0.5329 - accuracy: 0.7099 - val_loss: 0.6947 - val_accuracy: 0.6377\n",
            "Epoch 225/500\n",
            "60/60 [==============================] - 0s 2ms/step - loss: 0.5357 - accuracy: 0.7184 - val_loss: 0.6949 - val_accuracy: 0.6377\n",
            "Epoch 226/500\n",
            "60/60 [==============================] - 0s 2ms/step - loss: 0.5251 - accuracy: 0.7189 - val_loss: 0.6951 - val_accuracy: 0.6377\n",
            "Epoch 227/500\n",
            "60/60 [==============================] - 0s 2ms/step - loss: 0.5363 - accuracy: 0.7152 - val_loss: 0.6959 - val_accuracy: 0.6377\n",
            "Epoch 228/500\n",
            "60/60 [==============================] - 0s 2ms/step - loss: 0.5313 - accuracy: 0.7141 - val_loss: 0.6957 - val_accuracy: 0.6392\n",
            "Epoch 229/500\n",
            "60/60 [==============================] - 0s 2ms/step - loss: 0.5335 - accuracy: 0.7178 - val_loss: 0.6972 - val_accuracy: 0.6392\n",
            "Epoch 230/500\n",
            "60/60 [==============================] - 0s 2ms/step - loss: 0.5338 - accuracy: 0.7136 - val_loss: 0.6974 - val_accuracy: 0.6392\n",
            "Epoch 231/500\n",
            "60/60 [==============================] - 0s 2ms/step - loss: 0.5332 - accuracy: 0.7173 - val_loss: 0.6973 - val_accuracy: 0.6392\n",
            "Epoch 232/500\n",
            "60/60 [==============================] - 0s 2ms/step - loss: 0.5320 - accuracy: 0.7215 - val_loss: 0.6972 - val_accuracy: 0.6392\n",
            "Epoch 233/500\n",
            "60/60 [==============================] - 0s 2ms/step - loss: 0.5296 - accuracy: 0.7157 - val_loss: 0.6976 - val_accuracy: 0.6392\n",
            "Epoch 234/500\n",
            "60/60 [==============================] - 0s 2ms/step - loss: 0.5304 - accuracy: 0.7178 - val_loss: 0.6986 - val_accuracy: 0.6392\n",
            "Epoch 235/500\n",
            "60/60 [==============================] - 0s 2ms/step - loss: 0.5325 - accuracy: 0.7157 - val_loss: 0.6991 - val_accuracy: 0.6377\n",
            "Epoch 236/500\n",
            "60/60 [==============================] - 0s 2ms/step - loss: 0.5314 - accuracy: 0.7147 - val_loss: 0.6982 - val_accuracy: 0.6408\n",
            "Epoch 237/500\n",
            "60/60 [==============================] - 0s 2ms/step - loss: 0.5300 - accuracy: 0.7126 - val_loss: 0.6996 - val_accuracy: 0.6377\n",
            "Epoch 238/500\n",
            "60/60 [==============================] - 0s 2ms/step - loss: 0.5332 - accuracy: 0.7184 - val_loss: 0.6992 - val_accuracy: 0.6377\n",
            "Epoch 239/500\n",
            "60/60 [==============================] - 0s 2ms/step - loss: 0.5300 - accuracy: 0.7173 - val_loss: 0.6990 - val_accuracy: 0.6377\n",
            "Epoch 240/500\n",
            "60/60 [==============================] - 0s 2ms/step - loss: 0.5329 - accuracy: 0.7162 - val_loss: 0.7002 - val_accuracy: 0.6377\n",
            "Epoch 241/500\n",
            "60/60 [==============================] - 0s 2ms/step - loss: 0.5288 - accuracy: 0.7189 - val_loss: 0.6994 - val_accuracy: 0.6377\n",
            "Epoch 242/500\n",
            "60/60 [==============================] - 0s 2ms/step - loss: 0.5257 - accuracy: 0.7173 - val_loss: 0.6997 - val_accuracy: 0.6377\n",
            "Epoch 243/500\n",
            "60/60 [==============================] - 0s 2ms/step - loss: 0.5257 - accuracy: 0.7147 - val_loss: 0.7001 - val_accuracy: 0.6377\n",
            "Epoch 244/500\n",
            "60/60 [==============================] - 0s 2ms/step - loss: 0.5256 - accuracy: 0.7210 - val_loss: 0.7009 - val_accuracy: 0.6377\n",
            "Epoch 245/500\n",
            "60/60 [==============================] - 0s 2ms/step - loss: 0.5293 - accuracy: 0.7199 - val_loss: 0.7004 - val_accuracy: 0.6377\n",
            "Epoch 246/500\n",
            "60/60 [==============================] - 0s 2ms/step - loss: 0.5317 - accuracy: 0.7231 - val_loss: 0.7008 - val_accuracy: 0.6377\n",
            "Epoch 247/500\n",
            "60/60 [==============================] - 0s 2ms/step - loss: 0.5269 - accuracy: 0.7215 - val_loss: 0.7003 - val_accuracy: 0.6377\n",
            "Epoch 248/500\n",
            "60/60 [==============================] - 0s 2ms/step - loss: 0.5259 - accuracy: 0.7220 - val_loss: 0.6997 - val_accuracy: 0.6392\n",
            "Epoch 249/500\n",
            "60/60 [==============================] - 0s 2ms/step - loss: 0.5311 - accuracy: 0.7247 - val_loss: 0.6996 - val_accuracy: 0.6392\n",
            "Epoch 250/500\n",
            "60/60 [==============================] - 0s 2ms/step - loss: 0.5292 - accuracy: 0.7215 - val_loss: 0.6998 - val_accuracy: 0.6392\n",
            "Epoch 251/500\n",
            "60/60 [==============================] - 0s 2ms/step - loss: 0.5312 - accuracy: 0.7162 - val_loss: 0.6984 - val_accuracy: 0.6408\n",
            "Epoch 252/500\n",
            "60/60 [==============================] - 0s 2ms/step - loss: 0.5302 - accuracy: 0.7199 - val_loss: 0.6981 - val_accuracy: 0.6408\n",
            "Epoch 253/500\n",
            "60/60 [==============================] - 0s 2ms/step - loss: 0.5299 - accuracy: 0.7152 - val_loss: 0.6979 - val_accuracy: 0.6392\n",
            "Epoch 254/500\n",
            "60/60 [==============================] - 0s 2ms/step - loss: 0.5310 - accuracy: 0.7168 - val_loss: 0.6974 - val_accuracy: 0.6408\n",
            "Epoch 255/500\n",
            "60/60 [==============================] - 0s 2ms/step - loss: 0.5251 - accuracy: 0.7178 - val_loss: 0.6968 - val_accuracy: 0.6408\n",
            "Epoch 256/500\n",
            "60/60 [==============================] - 0s 2ms/step - loss: 0.5303 - accuracy: 0.7173 - val_loss: 0.6972 - val_accuracy: 0.6392\n",
            "Epoch 257/500\n",
            "60/60 [==============================] - 0s 2ms/step - loss: 0.5296 - accuracy: 0.7162 - val_loss: 0.6972 - val_accuracy: 0.6408\n",
            "Epoch 258/500\n",
            "60/60 [==============================] - 0s 2ms/step - loss: 0.5278 - accuracy: 0.7231 - val_loss: 0.6964 - val_accuracy: 0.6408\n",
            "Epoch 259/500\n",
            "60/60 [==============================] - 0s 2ms/step - loss: 0.5277 - accuracy: 0.7226 - val_loss: 0.6965 - val_accuracy: 0.6408\n",
            "Epoch 260/500\n",
            "60/60 [==============================] - 0s 2ms/step - loss: 0.5254 - accuracy: 0.7257 - val_loss: 0.6972 - val_accuracy: 0.6392\n",
            "Epoch 261/500\n",
            "60/60 [==============================] - 0s 2ms/step - loss: 0.5217 - accuracy: 0.7173 - val_loss: 0.6979 - val_accuracy: 0.6392\n",
            "Epoch 262/500\n",
            "60/60 [==============================] - 0s 2ms/step - loss: 0.5254 - accuracy: 0.7226 - val_loss: 0.6974 - val_accuracy: 0.6392\n",
            "Epoch 263/500\n",
            "60/60 [==============================] - 0s 2ms/step - loss: 0.5253 - accuracy: 0.7194 - val_loss: 0.6983 - val_accuracy: 0.6392\n",
            "Epoch 264/500\n",
            "60/60 [==============================] - 0s 2ms/step - loss: 0.5261 - accuracy: 0.7189 - val_loss: 0.6975 - val_accuracy: 0.6392\n",
            "Epoch 265/500\n",
            "60/60 [==============================] - 0s 2ms/step - loss: 0.5228 - accuracy: 0.7199 - val_loss: 0.6980 - val_accuracy: 0.6392\n",
            "Epoch 266/500\n",
            "60/60 [==============================] - 0s 2ms/step - loss: 0.5287 - accuracy: 0.7189 - val_loss: 0.6978 - val_accuracy: 0.6392\n",
            "Epoch 267/500\n",
            "60/60 [==============================] - 0s 2ms/step - loss: 0.5258 - accuracy: 0.7162 - val_loss: 0.6989 - val_accuracy: 0.6392\n",
            "Epoch 268/500\n",
            "60/60 [==============================] - 0s 2ms/step - loss: 0.5217 - accuracy: 0.7289 - val_loss: 0.6992 - val_accuracy: 0.6392\n",
            "Epoch 269/500\n",
            "60/60 [==============================] - 0s 2ms/step - loss: 0.5257 - accuracy: 0.7205 - val_loss: 0.6991 - val_accuracy: 0.6392\n",
            "Epoch 270/500\n",
            "60/60 [==============================] - 0s 2ms/step - loss: 0.5229 - accuracy: 0.7236 - val_loss: 0.6983 - val_accuracy: 0.6392\n",
            "Epoch 271/500\n",
            "60/60 [==============================] - 0s 2ms/step - loss: 0.5261 - accuracy: 0.7184 - val_loss: 0.6991 - val_accuracy: 0.6392\n",
            "Epoch 272/500\n",
            "60/60 [==============================] - 0s 2ms/step - loss: 0.5219 - accuracy: 0.7263 - val_loss: 0.6988 - val_accuracy: 0.6392\n",
            "Epoch 273/500\n",
            "60/60 [==============================] - 0s 2ms/step - loss: 0.5203 - accuracy: 0.7257 - val_loss: 0.6992 - val_accuracy: 0.6392\n",
            "Epoch 274/500\n",
            "60/60 [==============================] - 0s 2ms/step - loss: 0.5247 - accuracy: 0.7252 - val_loss: 0.6988 - val_accuracy: 0.6392\n",
            "Epoch 275/500\n",
            "60/60 [==============================] - 0s 2ms/step - loss: 0.5231 - accuracy: 0.7231 - val_loss: 0.6993 - val_accuracy: 0.6392\n",
            "Epoch 276/500\n",
            "60/60 [==============================] - 0s 2ms/step - loss: 0.5242 - accuracy: 0.7215 - val_loss: 0.6988 - val_accuracy: 0.6392\n",
            "Epoch 277/500\n",
            "60/60 [==============================] - 0s 2ms/step - loss: 0.5213 - accuracy: 0.7242 - val_loss: 0.6988 - val_accuracy: 0.6392\n",
            "Epoch 278/500\n",
            "60/60 [==============================] - 0s 2ms/step - loss: 0.5233 - accuracy: 0.7242 - val_loss: 0.7009 - val_accuracy: 0.6408\n",
            "Epoch 279/500\n",
            "60/60 [==============================] - 0s 2ms/step - loss: 0.5248 - accuracy: 0.7199 - val_loss: 0.7001 - val_accuracy: 0.6408\n",
            "Epoch 280/500\n",
            "60/60 [==============================] - 0s 2ms/step - loss: 0.5258 - accuracy: 0.7231 - val_loss: 0.6997 - val_accuracy: 0.6392\n",
            "Epoch 281/500\n",
            "60/60 [==============================] - 0s 2ms/step - loss: 0.5317 - accuracy: 0.7157 - val_loss: 0.7001 - val_accuracy: 0.6408\n",
            "Epoch 282/500\n",
            "60/60 [==============================] - 0s 2ms/step - loss: 0.5201 - accuracy: 0.7268 - val_loss: 0.7017 - val_accuracy: 0.6392\n",
            "Epoch 283/500\n",
            "60/60 [==============================] - 0s 2ms/step - loss: 0.5255 - accuracy: 0.7220 - val_loss: 0.7010 - val_accuracy: 0.6392\n",
            "Epoch 284/500\n",
            "60/60 [==============================] - 0s 2ms/step - loss: 0.5220 - accuracy: 0.7220 - val_loss: 0.7011 - val_accuracy: 0.6408\n",
            "Epoch 285/500\n",
            "60/60 [==============================] - 0s 2ms/step - loss: 0.5263 - accuracy: 0.7220 - val_loss: 0.7010 - val_accuracy: 0.6408\n",
            "Epoch 286/500\n",
            "60/60 [==============================] - 0s 2ms/step - loss: 0.5288 - accuracy: 0.7215 - val_loss: 0.7009 - val_accuracy: 0.6392\n",
            "Epoch 287/500\n",
            "60/60 [==============================] - 0s 2ms/step - loss: 0.5240 - accuracy: 0.7199 - val_loss: 0.7011 - val_accuracy: 0.6392\n",
            "Epoch 288/500\n",
            "60/60 [==============================] - 0s 2ms/step - loss: 0.5245 - accuracy: 0.7194 - val_loss: 0.7008 - val_accuracy: 0.6408\n",
            "Epoch 289/500\n",
            "60/60 [==============================] - 0s 2ms/step - loss: 0.5224 - accuracy: 0.7252 - val_loss: 0.7014 - val_accuracy: 0.6392\n",
            "Epoch 290/500\n",
            "60/60 [==============================] - 0s 2ms/step - loss: 0.5225 - accuracy: 0.7252 - val_loss: 0.7020 - val_accuracy: 0.6392\n",
            "Epoch 291/500\n",
            "60/60 [==============================] - 0s 2ms/step - loss: 0.5194 - accuracy: 0.7215 - val_loss: 0.7021 - val_accuracy: 0.6392\n",
            "Epoch 292/500\n",
            "60/60 [==============================] - 0s 2ms/step - loss: 0.5222 - accuracy: 0.7242 - val_loss: 0.7021 - val_accuracy: 0.6392\n",
            "Epoch 293/500\n",
            "60/60 [==============================] - 0s 2ms/step - loss: 0.5214 - accuracy: 0.7226 - val_loss: 0.7015 - val_accuracy: 0.6392\n",
            "Epoch 294/500\n",
            "60/60 [==============================] - 0s 2ms/step - loss: 0.5217 - accuracy: 0.7252 - val_loss: 0.7013 - val_accuracy: 0.6424\n",
            "Epoch 295/500\n",
            "60/60 [==============================] - 0s 2ms/step - loss: 0.5187 - accuracy: 0.7294 - val_loss: 0.7011 - val_accuracy: 0.6424\n",
            "Epoch 296/500\n",
            "60/60 [==============================] - 0s 2ms/step - loss: 0.5244 - accuracy: 0.7220 - val_loss: 0.7010 - val_accuracy: 0.6424\n",
            "Epoch 297/500\n",
            "60/60 [==============================] - 0s 2ms/step - loss: 0.5170 - accuracy: 0.7273 - val_loss: 0.7006 - val_accuracy: 0.6424\n",
            "Epoch 298/500\n",
            "60/60 [==============================] - 0s 2ms/step - loss: 0.5235 - accuracy: 0.7273 - val_loss: 0.7003 - val_accuracy: 0.6440\n",
            "Epoch 299/500\n",
            "60/60 [==============================] - 0s 2ms/step - loss: 0.5225 - accuracy: 0.7226 - val_loss: 0.7007 - val_accuracy: 0.6440\n",
            "Epoch 300/500\n",
            "60/60 [==============================] - 0s 2ms/step - loss: 0.5267 - accuracy: 0.7178 - val_loss: 0.6999 - val_accuracy: 0.6456\n",
            "Epoch 301/500\n",
            "60/60 [==============================] - 0s 2ms/step - loss: 0.5185 - accuracy: 0.7294 - val_loss: 0.7006 - val_accuracy: 0.6424\n",
            "Epoch 302/500\n",
            "60/60 [==============================] - 0s 2ms/step - loss: 0.5235 - accuracy: 0.7236 - val_loss: 0.6989 - val_accuracy: 0.6440\n",
            "Epoch 303/500\n",
            "60/60 [==============================] - 0s 2ms/step - loss: 0.5189 - accuracy: 0.7236 - val_loss: 0.6988 - val_accuracy: 0.6440\n",
            "Epoch 304/500\n",
            "60/60 [==============================] - 0s 2ms/step - loss: 0.5213 - accuracy: 0.7162 - val_loss: 0.6995 - val_accuracy: 0.6440\n",
            "Epoch 305/500\n",
            "60/60 [==============================] - 0s 2ms/step - loss: 0.5150 - accuracy: 0.7252 - val_loss: 0.6996 - val_accuracy: 0.6440\n",
            "Epoch 306/500\n",
            "60/60 [==============================] - 0s 2ms/step - loss: 0.5216 - accuracy: 0.7257 - val_loss: 0.6998 - val_accuracy: 0.6456\n",
            "Epoch 307/500\n",
            "60/60 [==============================] - 0s 2ms/step - loss: 0.5249 - accuracy: 0.7210 - val_loss: 0.6996 - val_accuracy: 0.6456\n",
            "Epoch 308/500\n",
            "60/60 [==============================] - 0s 2ms/step - loss: 0.5171 - accuracy: 0.7273 - val_loss: 0.6990 - val_accuracy: 0.6440\n",
            "Epoch 309/500\n",
            "60/60 [==============================] - 0s 2ms/step - loss: 0.5219 - accuracy: 0.7215 - val_loss: 0.6992 - val_accuracy: 0.6472\n",
            "Epoch 310/500\n",
            "60/60 [==============================] - 0s 2ms/step - loss: 0.5202 - accuracy: 0.7252 - val_loss: 0.6989 - val_accuracy: 0.6472\n",
            "Epoch 311/500\n",
            "60/60 [==============================] - 0s 2ms/step - loss: 0.5230 - accuracy: 0.7199 - val_loss: 0.6983 - val_accuracy: 0.6487\n",
            "Epoch 312/500\n",
            "60/60 [==============================] - 0s 2ms/step - loss: 0.5245 - accuracy: 0.7247 - val_loss: 0.6977 - val_accuracy: 0.6472\n",
            "Epoch 313/500\n",
            "60/60 [==============================] - 0s 2ms/step - loss: 0.5146 - accuracy: 0.7263 - val_loss: 0.6977 - val_accuracy: 0.6440\n",
            "Epoch 314/500\n",
            "60/60 [==============================] - 0s 2ms/step - loss: 0.5194 - accuracy: 0.7268 - val_loss: 0.6975 - val_accuracy: 0.6440\n",
            "Epoch 315/500\n",
            "60/60 [==============================] - 0s 2ms/step - loss: 0.5191 - accuracy: 0.7315 - val_loss: 0.6975 - val_accuracy: 0.6440\n",
            "Epoch 316/500\n",
            "60/60 [==============================] - 0s 2ms/step - loss: 0.5180 - accuracy: 0.7300 - val_loss: 0.6975 - val_accuracy: 0.6440\n",
            "Epoch 317/500\n",
            "60/60 [==============================] - 0s 2ms/step - loss: 0.5162 - accuracy: 0.7294 - val_loss: 0.6978 - val_accuracy: 0.6440\n",
            "Epoch 318/500\n",
            "60/60 [==============================] - 0s 2ms/step - loss: 0.5200 - accuracy: 0.7247 - val_loss: 0.6985 - val_accuracy: 0.6440\n",
            "Epoch 319/500\n",
            "60/60 [==============================] - 0s 2ms/step - loss: 0.5216 - accuracy: 0.7247 - val_loss: 0.6989 - val_accuracy: 0.6487\n",
            "Epoch 320/500\n",
            "60/60 [==============================] - 0s 2ms/step - loss: 0.5229 - accuracy: 0.7226 - val_loss: 0.6971 - val_accuracy: 0.6456\n",
            "Epoch 321/500\n",
            "60/60 [==============================] - 0s 2ms/step - loss: 0.5164 - accuracy: 0.7273 - val_loss: 0.6981 - val_accuracy: 0.6456\n",
            "Epoch 322/500\n",
            "60/60 [==============================] - 0s 2ms/step - loss: 0.5196 - accuracy: 0.7257 - val_loss: 0.6975 - val_accuracy: 0.6456\n",
            "Epoch 323/500\n",
            "60/60 [==============================] - 0s 2ms/step - loss: 0.5218 - accuracy: 0.7300 - val_loss: 0.6970 - val_accuracy: 0.6456\n",
            "Epoch 324/500\n",
            "60/60 [==============================] - 0s 2ms/step - loss: 0.5128 - accuracy: 0.7273 - val_loss: 0.6974 - val_accuracy: 0.6456\n",
            "Epoch 325/500\n",
            "60/60 [==============================] - 0s 2ms/step - loss: 0.5192 - accuracy: 0.7284 - val_loss: 0.6977 - val_accuracy: 0.6456\n",
            "Epoch 326/500\n",
            "60/60 [==============================] - 0s 2ms/step - loss: 0.5218 - accuracy: 0.7321 - val_loss: 0.6970 - val_accuracy: 0.6456\n",
            "Epoch 327/500\n",
            "60/60 [==============================] - 0s 2ms/step - loss: 0.5186 - accuracy: 0.7263 - val_loss: 0.6973 - val_accuracy: 0.6456\n",
            "Epoch 328/500\n",
            "60/60 [==============================] - 0s 2ms/step - loss: 0.5155 - accuracy: 0.7331 - val_loss: 0.6971 - val_accuracy: 0.6456\n",
            "Epoch 329/500\n",
            "60/60 [==============================] - 0s 2ms/step - loss: 0.5183 - accuracy: 0.7294 - val_loss: 0.6965 - val_accuracy: 0.6456\n",
            "Epoch 330/500\n",
            "60/60 [==============================] - 0s 2ms/step - loss: 0.5167 - accuracy: 0.7257 - val_loss: 0.6968 - val_accuracy: 0.6456\n",
            "Epoch 331/500\n",
            "60/60 [==============================] - 0s 2ms/step - loss: 0.5132 - accuracy: 0.7305 - val_loss: 0.6967 - val_accuracy: 0.6456\n",
            "Epoch 332/500\n",
            "60/60 [==============================] - 0s 2ms/step - loss: 0.5153 - accuracy: 0.7310 - val_loss: 0.6964 - val_accuracy: 0.6456\n",
            "Epoch 333/500\n",
            "60/60 [==============================] - 0s 2ms/step - loss: 0.5202 - accuracy: 0.7252 - val_loss: 0.6971 - val_accuracy: 0.6456\n",
            "Epoch 334/500\n",
            "60/60 [==============================] - 0s 2ms/step - loss: 0.5167 - accuracy: 0.7278 - val_loss: 0.6970 - val_accuracy: 0.6456\n",
            "Epoch 335/500\n",
            "60/60 [==============================] - 0s 2ms/step - loss: 0.5131 - accuracy: 0.7263 - val_loss: 0.6970 - val_accuracy: 0.6456\n",
            "Epoch 336/500\n",
            "60/60 [==============================] - 0s 2ms/step - loss: 0.5170 - accuracy: 0.7326 - val_loss: 0.6979 - val_accuracy: 0.6456\n",
            "Epoch 337/500\n",
            "60/60 [==============================] - 0s 2ms/step - loss: 0.5141 - accuracy: 0.7273 - val_loss: 0.6974 - val_accuracy: 0.6456\n",
            "Epoch 338/500\n",
            "60/60 [==============================] - 0s 2ms/step - loss: 0.5145 - accuracy: 0.7305 - val_loss: 0.6970 - val_accuracy: 0.6456\n",
            "Epoch 339/500\n",
            "60/60 [==============================] - 0s 2ms/step - loss: 0.5184 - accuracy: 0.7315 - val_loss: 0.6966 - val_accuracy: 0.6456\n",
            "Epoch 340/500\n",
            "60/60 [==============================] - 0s 2ms/step - loss: 0.5168 - accuracy: 0.7268 - val_loss: 0.6962 - val_accuracy: 0.6472\n",
            "Epoch 341/500\n",
            "60/60 [==============================] - 0s 2ms/step - loss: 0.5145 - accuracy: 0.7252 - val_loss: 0.6966 - val_accuracy: 0.6472\n",
            "Epoch 342/500\n",
            "60/60 [==============================] - 0s 2ms/step - loss: 0.5184 - accuracy: 0.7300 - val_loss: 0.6966 - val_accuracy: 0.6456\n",
            "Epoch 343/500\n",
            "60/60 [==============================] - 0s 2ms/step - loss: 0.5159 - accuracy: 0.7242 - val_loss: 0.6966 - val_accuracy: 0.6456\n",
            "Epoch 344/500\n",
            "60/60 [==============================] - 0s 2ms/step - loss: 0.5162 - accuracy: 0.7278 - val_loss: 0.6957 - val_accuracy: 0.6472\n",
            "Epoch 345/500\n",
            "60/60 [==============================] - 0s 2ms/step - loss: 0.5198 - accuracy: 0.7273 - val_loss: 0.6961 - val_accuracy: 0.6472\n",
            "Epoch 346/500\n",
            "60/60 [==============================] - 0s 2ms/step - loss: 0.5107 - accuracy: 0.7358 - val_loss: 0.6959 - val_accuracy: 0.6472\n",
            "Epoch 347/500\n",
            "60/60 [==============================] - 0s 2ms/step - loss: 0.5179 - accuracy: 0.7263 - val_loss: 0.6965 - val_accuracy: 0.6472\n",
            "Epoch 348/500\n",
            "60/60 [==============================] - 0s 2ms/step - loss: 0.5137 - accuracy: 0.7321 - val_loss: 0.6957 - val_accuracy: 0.6472\n",
            "Epoch 349/500\n",
            "60/60 [==============================] - 0s 2ms/step - loss: 0.5079 - accuracy: 0.7310 - val_loss: 0.6958 - val_accuracy: 0.6472\n",
            "Epoch 350/500\n",
            "60/60 [==============================] - 0s 2ms/step - loss: 0.5145 - accuracy: 0.7257 - val_loss: 0.6969 - val_accuracy: 0.6472\n",
            "Epoch 351/500\n",
            "60/60 [==============================] - 0s 2ms/step - loss: 0.5155 - accuracy: 0.7315 - val_loss: 0.6967 - val_accuracy: 0.6472\n",
            "Epoch 352/500\n",
            "60/60 [==============================] - 0s 2ms/step - loss: 0.5121 - accuracy: 0.7247 - val_loss: 0.6967 - val_accuracy: 0.6472\n",
            "Epoch 353/500\n",
            "60/60 [==============================] - 0s 2ms/step - loss: 0.5197 - accuracy: 0.7252 - val_loss: 0.6973 - val_accuracy: 0.6487\n",
            "Epoch 354/500\n",
            "60/60 [==============================] - 0s 2ms/step - loss: 0.5165 - accuracy: 0.7321 - val_loss: 0.6979 - val_accuracy: 0.6487\n",
            "Epoch 355/500\n",
            "60/60 [==============================] - 0s 2ms/step - loss: 0.5156 - accuracy: 0.7257 - val_loss: 0.6980 - val_accuracy: 0.6472\n",
            "Epoch 356/500\n",
            "60/60 [==============================] - 0s 2ms/step - loss: 0.5164 - accuracy: 0.7273 - val_loss: 0.6984 - val_accuracy: 0.6456\n",
            "Epoch 357/500\n",
            "60/60 [==============================] - 0s 2ms/step - loss: 0.5112 - accuracy: 0.7300 - val_loss: 0.6971 - val_accuracy: 0.6472\n",
            "Epoch 358/500\n",
            "60/60 [==============================] - 0s 2ms/step - loss: 0.5148 - accuracy: 0.7315 - val_loss: 0.6980 - val_accuracy: 0.6456\n",
            "Epoch 359/500\n",
            "60/60 [==============================] - 0s 2ms/step - loss: 0.5105 - accuracy: 0.7294 - val_loss: 0.6974 - val_accuracy: 0.6472\n",
            "Epoch 360/500\n",
            "60/60 [==============================] - 0s 2ms/step - loss: 0.5137 - accuracy: 0.7352 - val_loss: 0.6971 - val_accuracy: 0.6472\n",
            "Epoch 361/500\n",
            "60/60 [==============================] - 0s 2ms/step - loss: 0.5187 - accuracy: 0.7321 - val_loss: 0.6983 - val_accuracy: 0.6456\n",
            "Epoch 362/500\n",
            "60/60 [==============================] - 0s 2ms/step - loss: 0.5119 - accuracy: 0.7300 - val_loss: 0.6976 - val_accuracy: 0.6472\n",
            "Epoch 363/500\n",
            "60/60 [==============================] - 0s 2ms/step - loss: 0.5166 - accuracy: 0.7278 - val_loss: 0.6986 - val_accuracy: 0.6456\n",
            "Epoch 364/500\n",
            "60/60 [==============================] - 0s 2ms/step - loss: 0.5078 - accuracy: 0.7379 - val_loss: 0.6984 - val_accuracy: 0.6456\n",
            "Epoch 365/500\n",
            "60/60 [==============================] - 0s 2ms/step - loss: 0.5167 - accuracy: 0.7315 - val_loss: 0.6976 - val_accuracy: 0.6487\n",
            "Epoch 366/500\n",
            "60/60 [==============================] - 0s 2ms/step - loss: 0.5154 - accuracy: 0.7300 - val_loss: 0.6976 - val_accuracy: 0.6472\n",
            "Epoch 367/500\n",
            "60/60 [==============================] - 0s 2ms/step - loss: 0.5153 - accuracy: 0.7305 - val_loss: 0.6978 - val_accuracy: 0.6472\n",
            "Epoch 368/500\n",
            "60/60 [==============================] - 0s 2ms/step - loss: 0.5163 - accuracy: 0.7305 - val_loss: 0.6987 - val_accuracy: 0.6487\n",
            "Epoch 369/500\n",
            "60/60 [==============================] - 0s 2ms/step - loss: 0.5144 - accuracy: 0.7220 - val_loss: 0.6982 - val_accuracy: 0.6487\n",
            "Epoch 370/500\n",
            "60/60 [==============================] - 0s 2ms/step - loss: 0.5171 - accuracy: 0.7284 - val_loss: 0.6982 - val_accuracy: 0.6503\n",
            "Epoch 371/500\n",
            "60/60 [==============================] - 0s 2ms/step - loss: 0.5128 - accuracy: 0.7300 - val_loss: 0.6980 - val_accuracy: 0.6487\n",
            "Epoch 372/500\n",
            "60/60 [==============================] - 0s 2ms/step - loss: 0.5154 - accuracy: 0.7326 - val_loss: 0.6982 - val_accuracy: 0.6503\n",
            "Epoch 373/500\n",
            "60/60 [==============================] - 0s 2ms/step - loss: 0.5116 - accuracy: 0.7347 - val_loss: 0.6968 - val_accuracy: 0.6503\n",
            "Epoch 374/500\n",
            "60/60 [==============================] - 0s 2ms/step - loss: 0.5071 - accuracy: 0.7336 - val_loss: 0.6971 - val_accuracy: 0.6503\n",
            "Epoch 375/500\n",
            "60/60 [==============================] - 0s 2ms/step - loss: 0.5147 - accuracy: 0.7278 - val_loss: 0.6977 - val_accuracy: 0.6503\n",
            "Epoch 376/500\n",
            "60/60 [==============================] - 0s 2ms/step - loss: 0.5116 - accuracy: 0.7273 - val_loss: 0.6983 - val_accuracy: 0.6519\n",
            "Epoch 377/500\n",
            "60/60 [==============================] - 0s 2ms/step - loss: 0.5101 - accuracy: 0.7289 - val_loss: 0.6983 - val_accuracy: 0.6519\n",
            "Epoch 378/500\n",
            "60/60 [==============================] - 0s 2ms/step - loss: 0.5129 - accuracy: 0.7321 - val_loss: 0.6978 - val_accuracy: 0.6503\n",
            "Epoch 379/500\n",
            "60/60 [==============================] - 0s 2ms/step - loss: 0.5140 - accuracy: 0.7326 - val_loss: 0.6972 - val_accuracy: 0.6503\n",
            "Epoch 380/500\n",
            "60/60 [==============================] - 0s 2ms/step - loss: 0.5134 - accuracy: 0.7289 - val_loss: 0.6964 - val_accuracy: 0.6503\n",
            "Epoch 381/500\n",
            "60/60 [==============================] - 0s 2ms/step - loss: 0.5089 - accuracy: 0.7300 - val_loss: 0.6977 - val_accuracy: 0.6519\n",
            "Epoch 382/500\n",
            "60/60 [==============================] - 0s 2ms/step - loss: 0.5099 - accuracy: 0.7300 - val_loss: 0.6976 - val_accuracy: 0.6519\n",
            "Epoch 383/500\n",
            "60/60 [==============================] - 0s 2ms/step - loss: 0.5098 - accuracy: 0.7331 - val_loss: 0.6978 - val_accuracy: 0.6519\n",
            "Epoch 384/500\n",
            "60/60 [==============================] - 0s 2ms/step - loss: 0.5094 - accuracy: 0.7347 - val_loss: 0.6969 - val_accuracy: 0.6535\n",
            "Epoch 385/500\n",
            "60/60 [==============================] - 0s 2ms/step - loss: 0.5124 - accuracy: 0.7326 - val_loss: 0.6986 - val_accuracy: 0.6519\n",
            "Epoch 386/500\n",
            "60/60 [==============================] - 0s 2ms/step - loss: 0.5122 - accuracy: 0.7315 - val_loss: 0.6980 - val_accuracy: 0.6519\n",
            "Epoch 387/500\n",
            "60/60 [==============================] - 0s 2ms/step - loss: 0.5111 - accuracy: 0.7342 - val_loss: 0.6972 - val_accuracy: 0.6535\n",
            "Epoch 388/500\n",
            "60/60 [==============================] - 0s 2ms/step - loss: 0.5087 - accuracy: 0.7326 - val_loss: 0.6978 - val_accuracy: 0.6535\n",
            "Epoch 389/500\n",
            "60/60 [==============================] - 0s 2ms/step - loss: 0.5117 - accuracy: 0.7263 - val_loss: 0.6985 - val_accuracy: 0.6519\n",
            "Epoch 390/500\n",
            "60/60 [==============================] - 0s 2ms/step - loss: 0.5130 - accuracy: 0.7284 - val_loss: 0.6974 - val_accuracy: 0.6535\n",
            "Epoch 391/500\n",
            "60/60 [==============================] - 0s 2ms/step - loss: 0.5080 - accuracy: 0.7363 - val_loss: 0.6982 - val_accuracy: 0.6519\n",
            "Epoch 392/500\n",
            "60/60 [==============================] - 0s 2ms/step - loss: 0.5076 - accuracy: 0.7331 - val_loss: 0.6978 - val_accuracy: 0.6519\n",
            "Epoch 393/500\n",
            "60/60 [==============================] - 0s 2ms/step - loss: 0.5053 - accuracy: 0.7358 - val_loss: 0.6983 - val_accuracy: 0.6519\n",
            "Epoch 394/500\n",
            "60/60 [==============================] - 0s 2ms/step - loss: 0.5066 - accuracy: 0.7331 - val_loss: 0.6976 - val_accuracy: 0.6519\n",
            "Epoch 395/500\n",
            "60/60 [==============================] - 0s 2ms/step - loss: 0.5097 - accuracy: 0.7326 - val_loss: 0.6978 - val_accuracy: 0.6519\n",
            "Epoch 396/500\n",
            "60/60 [==============================] - 0s 2ms/step - loss: 0.5117 - accuracy: 0.7289 - val_loss: 0.6966 - val_accuracy: 0.6519\n",
            "Epoch 397/500\n",
            "60/60 [==============================] - 0s 2ms/step - loss: 0.5099 - accuracy: 0.7315 - val_loss: 0.6984 - val_accuracy: 0.6519\n",
            "Epoch 398/500\n",
            "60/60 [==============================] - 0s 2ms/step - loss: 0.5143 - accuracy: 0.7352 - val_loss: 0.6973 - val_accuracy: 0.6519\n",
            "Epoch 399/500\n",
            "60/60 [==============================] - 0s 2ms/step - loss: 0.5117 - accuracy: 0.7294 - val_loss: 0.6980 - val_accuracy: 0.6519\n",
            "Epoch 400/500\n",
            "60/60 [==============================] - 0s 2ms/step - loss: 0.5086 - accuracy: 0.7410 - val_loss: 0.6979 - val_accuracy: 0.6519\n",
            "Epoch 401/500\n",
            "60/60 [==============================] - 0s 2ms/step - loss: 0.5057 - accuracy: 0.7336 - val_loss: 0.6966 - val_accuracy: 0.6519\n",
            "Epoch 402/500\n",
            "60/60 [==============================] - 0s 2ms/step - loss: 0.5086 - accuracy: 0.7395 - val_loss: 0.6967 - val_accuracy: 0.6535\n",
            "Epoch 403/500\n",
            "60/60 [==============================] - 0s 2ms/step - loss: 0.5087 - accuracy: 0.7342 - val_loss: 0.6967 - val_accuracy: 0.6535\n",
            "Epoch 404/500\n",
            "60/60 [==============================] - 0s 2ms/step - loss: 0.5097 - accuracy: 0.7331 - val_loss: 0.6972 - val_accuracy: 0.6519\n",
            "Epoch 405/500\n",
            "60/60 [==============================] - 0s 2ms/step - loss: 0.5099 - accuracy: 0.7342 - val_loss: 0.6971 - val_accuracy: 0.6535\n",
            "Epoch 406/500\n",
            "60/60 [==============================] - 0s 2ms/step - loss: 0.5067 - accuracy: 0.7363 - val_loss: 0.6967 - val_accuracy: 0.6535\n",
            "Epoch 407/500\n",
            "60/60 [==============================] - 0s 2ms/step - loss: 0.5122 - accuracy: 0.7305 - val_loss: 0.6956 - val_accuracy: 0.6535\n",
            "Epoch 408/500\n",
            "60/60 [==============================] - 0s 2ms/step - loss: 0.5098 - accuracy: 0.7331 - val_loss: 0.6965 - val_accuracy: 0.6535\n",
            "Epoch 409/500\n",
            "60/60 [==============================] - 0s 2ms/step - loss: 0.5141 - accuracy: 0.7363 - val_loss: 0.6973 - val_accuracy: 0.6519\n",
            "Epoch 410/500\n",
            "60/60 [==============================] - 0s 2ms/step - loss: 0.5100 - accuracy: 0.7310 - val_loss: 0.6973 - val_accuracy: 0.6519\n",
            "Epoch 411/500\n",
            "60/60 [==============================] - 0s 2ms/step - loss: 0.5084 - accuracy: 0.7331 - val_loss: 0.6970 - val_accuracy: 0.6519\n",
            "Epoch 412/500\n",
            "60/60 [==============================] - 0s 2ms/step - loss: 0.5069 - accuracy: 0.7331 - val_loss: 0.6968 - val_accuracy: 0.6519\n",
            "Epoch 413/500\n",
            "60/60 [==============================] - 0s 2ms/step - loss: 0.5097 - accuracy: 0.7363 - val_loss: 0.6980 - val_accuracy: 0.6535\n",
            "Epoch 414/500\n",
            "60/60 [==============================] - 0s 2ms/step - loss: 0.5144 - accuracy: 0.7368 - val_loss: 0.6975 - val_accuracy: 0.6535\n",
            "Epoch 415/500\n",
            "60/60 [==============================] - 0s 2ms/step - loss: 0.5055 - accuracy: 0.7379 - val_loss: 0.6976 - val_accuracy: 0.6535\n",
            "Epoch 416/500\n",
            "60/60 [==============================] - 0s 2ms/step - loss: 0.5049 - accuracy: 0.7363 - val_loss: 0.6990 - val_accuracy: 0.6535\n",
            "Epoch 417/500\n",
            "60/60 [==============================] - 0s 2ms/step - loss: 0.5124 - accuracy: 0.7321 - val_loss: 0.6983 - val_accuracy: 0.6535\n",
            "Epoch 418/500\n",
            "60/60 [==============================] - 0s 2ms/step - loss: 0.5101 - accuracy: 0.7310 - val_loss: 0.6986 - val_accuracy: 0.6535\n",
            "Epoch 419/500\n",
            "60/60 [==============================] - 0s 2ms/step - loss: 0.5043 - accuracy: 0.7347 - val_loss: 0.6981 - val_accuracy: 0.6535\n",
            "Epoch 420/500\n",
            "60/60 [==============================] - 0s 2ms/step - loss: 0.5062 - accuracy: 0.7342 - val_loss: 0.6983 - val_accuracy: 0.6535\n",
            "Epoch 421/500\n",
            "60/60 [==============================] - 0s 2ms/step - loss: 0.5114 - accuracy: 0.7331 - val_loss: 0.6978 - val_accuracy: 0.6535\n",
            "Epoch 422/500\n",
            "60/60 [==============================] - 0s 3ms/step - loss: 0.5099 - accuracy: 0.7358 - val_loss: 0.6980 - val_accuracy: 0.6535\n",
            "Epoch 423/500\n",
            "60/60 [==============================] - 0s 2ms/step - loss: 0.5081 - accuracy: 0.7368 - val_loss: 0.6982 - val_accuracy: 0.6535\n",
            "Epoch 424/500\n",
            "60/60 [==============================] - 0s 3ms/step - loss: 0.5011 - accuracy: 0.7373 - val_loss: 0.6955 - val_accuracy: 0.6535\n",
            "Epoch 425/500\n",
            "60/60 [==============================] - 0s 3ms/step - loss: 0.5077 - accuracy: 0.7268 - val_loss: 0.6967 - val_accuracy: 0.6535\n",
            "Epoch 426/500\n",
            "60/60 [==============================] - 0s 2ms/step - loss: 0.5083 - accuracy: 0.7289 - val_loss: 0.6955 - val_accuracy: 0.6519\n",
            "Epoch 427/500\n",
            "60/60 [==============================] - 0s 2ms/step - loss: 0.5073 - accuracy: 0.7331 - val_loss: 0.6961 - val_accuracy: 0.6535\n",
            "Epoch 428/500\n",
            "60/60 [==============================] - 0s 2ms/step - loss: 0.5057 - accuracy: 0.7363 - val_loss: 0.6961 - val_accuracy: 0.6535\n",
            "Epoch 429/500\n",
            "60/60 [==============================] - 0s 2ms/step - loss: 0.5061 - accuracy: 0.7395 - val_loss: 0.6967 - val_accuracy: 0.6519\n",
            "Epoch 430/500\n",
            "60/60 [==============================] - 0s 2ms/step - loss: 0.5010 - accuracy: 0.7331 - val_loss: 0.6970 - val_accuracy: 0.6519\n",
            "Epoch 431/500\n",
            "60/60 [==============================] - 0s 3ms/step - loss: 0.5022 - accuracy: 0.7342 - val_loss: 0.6969 - val_accuracy: 0.6519\n",
            "Epoch 432/500\n",
            "60/60 [==============================] - 0s 3ms/step - loss: 0.5069 - accuracy: 0.7336 - val_loss: 0.6974 - val_accuracy: 0.6535\n",
            "Epoch 433/500\n",
            "60/60 [==============================] - 0s 2ms/step - loss: 0.5042 - accuracy: 0.7315 - val_loss: 0.6983 - val_accuracy: 0.6519\n",
            "Epoch 434/500\n",
            "60/60 [==============================] - 0s 2ms/step - loss: 0.5079 - accuracy: 0.7358 - val_loss: 0.6958 - val_accuracy: 0.6551\n",
            "Epoch 435/500\n",
            "60/60 [==============================] - 0s 2ms/step - loss: 0.5044 - accuracy: 0.7352 - val_loss: 0.6968 - val_accuracy: 0.6535\n",
            "Epoch 436/500\n",
            "60/60 [==============================] - 0s 2ms/step - loss: 0.5039 - accuracy: 0.7326 - val_loss: 0.6962 - val_accuracy: 0.6535\n",
            "Epoch 437/500\n",
            "60/60 [==============================] - 0s 2ms/step - loss: 0.5091 - accuracy: 0.7358 - val_loss: 0.6976 - val_accuracy: 0.6535\n",
            "Epoch 438/500\n",
            "60/60 [==============================] - 0s 2ms/step - loss: 0.5098 - accuracy: 0.7326 - val_loss: 0.6970 - val_accuracy: 0.6535\n",
            "Epoch 439/500\n",
            "60/60 [==============================] - 0s 2ms/step - loss: 0.5047 - accuracy: 0.7352 - val_loss: 0.6980 - val_accuracy: 0.6535\n",
            "Epoch 440/500\n",
            "60/60 [==============================] - 0s 3ms/step - loss: 0.5043 - accuracy: 0.7363 - val_loss: 0.6979 - val_accuracy: 0.6535\n",
            "Epoch 441/500\n",
            "60/60 [==============================] - 0s 2ms/step - loss: 0.5032 - accuracy: 0.7321 - val_loss: 0.6978 - val_accuracy: 0.6535\n",
            "Epoch 442/500\n",
            "60/60 [==============================] - 0s 2ms/step - loss: 0.5102 - accuracy: 0.7342 - val_loss: 0.6984 - val_accuracy: 0.6535\n",
            "Epoch 443/500\n",
            "60/60 [==============================] - 0s 2ms/step - loss: 0.5054 - accuracy: 0.7379 - val_loss: 0.6985 - val_accuracy: 0.6535\n",
            "Epoch 444/500\n",
            "60/60 [==============================] - 0s 2ms/step - loss: 0.5051 - accuracy: 0.7326 - val_loss: 0.6993 - val_accuracy: 0.6535\n",
            "Epoch 445/500\n",
            "60/60 [==============================] - 0s 3ms/step - loss: 0.4994 - accuracy: 0.7315 - val_loss: 0.7000 - val_accuracy: 0.6535\n",
            "Epoch 446/500\n",
            "60/60 [==============================] - 0s 2ms/step - loss: 0.5054 - accuracy: 0.7395 - val_loss: 0.6992 - val_accuracy: 0.6551\n",
            "Epoch 447/500\n",
            "60/60 [==============================] - 0s 2ms/step - loss: 0.4989 - accuracy: 0.7395 - val_loss: 0.6999 - val_accuracy: 0.6535\n",
            "Epoch 448/500\n",
            "60/60 [==============================] - 0s 2ms/step - loss: 0.5054 - accuracy: 0.7384 - val_loss: 0.7011 - val_accuracy: 0.6535\n",
            "Epoch 449/500\n",
            "60/60 [==============================] - 0s 2ms/step - loss: 0.5100 - accuracy: 0.7358 - val_loss: 0.7000 - val_accuracy: 0.6551\n",
            "Epoch 450/500\n",
            "60/60 [==============================] - 0s 2ms/step - loss: 0.5008 - accuracy: 0.7400 - val_loss: 0.7004 - val_accuracy: 0.6551\n",
            "Epoch 451/500\n",
            "60/60 [==============================] - 0s 2ms/step - loss: 0.5059 - accuracy: 0.7331 - val_loss: 0.7002 - val_accuracy: 0.6551\n",
            "Epoch 452/500\n",
            "60/60 [==============================] - 0s 2ms/step - loss: 0.5005 - accuracy: 0.7358 - val_loss: 0.6996 - val_accuracy: 0.6566\n",
            "Epoch 453/500\n",
            "60/60 [==============================] - 0s 2ms/step - loss: 0.5044 - accuracy: 0.7400 - val_loss: 0.6991 - val_accuracy: 0.6566\n",
            "Epoch 454/500\n",
            "60/60 [==============================] - 0s 2ms/step - loss: 0.5013 - accuracy: 0.7373 - val_loss: 0.7011 - val_accuracy: 0.6566\n",
            "Epoch 455/500\n",
            "60/60 [==============================] - 0s 2ms/step - loss: 0.5058 - accuracy: 0.7342 - val_loss: 0.7006 - val_accuracy: 0.6566\n",
            "Epoch 456/500\n",
            "60/60 [==============================] - 0s 2ms/step - loss: 0.5011 - accuracy: 0.7352 - val_loss: 0.7003 - val_accuracy: 0.6566\n",
            "Epoch 457/500\n",
            "60/60 [==============================] - 0s 2ms/step - loss: 0.5038 - accuracy: 0.7373 - val_loss: 0.6998 - val_accuracy: 0.6566\n",
            "Epoch 458/500\n",
            "60/60 [==============================] - 0s 2ms/step - loss: 0.5059 - accuracy: 0.7347 - val_loss: 0.7008 - val_accuracy: 0.6582\n",
            "Epoch 459/500\n",
            "60/60 [==============================] - 0s 2ms/step - loss: 0.5004 - accuracy: 0.7368 - val_loss: 0.7010 - val_accuracy: 0.6582\n",
            "Epoch 460/500\n",
            "60/60 [==============================] - 0s 3ms/step - loss: 0.5070 - accuracy: 0.7426 - val_loss: 0.7006 - val_accuracy: 0.6582\n",
            "Epoch 461/500\n",
            "60/60 [==============================] - 0s 2ms/step - loss: 0.4993 - accuracy: 0.7373 - val_loss: 0.7015 - val_accuracy: 0.6582\n",
            "Epoch 462/500\n",
            "60/60 [==============================] - 0s 2ms/step - loss: 0.5028 - accuracy: 0.7416 - val_loss: 0.7003 - val_accuracy: 0.6598\n",
            "Epoch 463/500\n",
            "60/60 [==============================] - 0s 2ms/step - loss: 0.5055 - accuracy: 0.7373 - val_loss: 0.7006 - val_accuracy: 0.6582\n",
            "Epoch 464/500\n",
            "60/60 [==============================] - 0s 2ms/step - loss: 0.5003 - accuracy: 0.7363 - val_loss: 0.7002 - val_accuracy: 0.6582\n",
            "Epoch 465/500\n",
            "60/60 [==============================] - 0s 2ms/step - loss: 0.5052 - accuracy: 0.7421 - val_loss: 0.6992 - val_accuracy: 0.6582\n",
            "Epoch 466/500\n",
            "60/60 [==============================] - 0s 2ms/step - loss: 0.5051 - accuracy: 0.7373 - val_loss: 0.6995 - val_accuracy: 0.6566\n",
            "Epoch 467/500\n",
            "60/60 [==============================] - 0s 2ms/step - loss: 0.5059 - accuracy: 0.7331 - val_loss: 0.6994 - val_accuracy: 0.6566\n",
            "Epoch 468/500\n",
            "60/60 [==============================] - 0s 2ms/step - loss: 0.5053 - accuracy: 0.7405 - val_loss: 0.6994 - val_accuracy: 0.6566\n",
            "Epoch 469/500\n",
            "60/60 [==============================] - 0s 2ms/step - loss: 0.5008 - accuracy: 0.7336 - val_loss: 0.6999 - val_accuracy: 0.6566\n",
            "Epoch 470/500\n",
            "60/60 [==============================] - 0s 2ms/step - loss: 0.5066 - accuracy: 0.7342 - val_loss: 0.6995 - val_accuracy: 0.6566\n",
            "Epoch 471/500\n",
            "60/60 [==============================] - 0s 3ms/step - loss: 0.5050 - accuracy: 0.7400 - val_loss: 0.7015 - val_accuracy: 0.6582\n",
            "Epoch 472/500\n",
            "60/60 [==============================] - 0s 2ms/step - loss: 0.5017 - accuracy: 0.7395 - val_loss: 0.7012 - val_accuracy: 0.6566\n",
            "Epoch 473/500\n",
            "60/60 [==============================] - 0s 2ms/step - loss: 0.5034 - accuracy: 0.7358 - val_loss: 0.7018 - val_accuracy: 0.6582\n",
            "Epoch 474/500\n",
            "60/60 [==============================] - 0s 2ms/step - loss: 0.4978 - accuracy: 0.7358 - val_loss: 0.7015 - val_accuracy: 0.6566\n",
            "Epoch 475/500\n",
            "60/60 [==============================] - 0s 2ms/step - loss: 0.5056 - accuracy: 0.7358 - val_loss: 0.7019 - val_accuracy: 0.6582\n",
            "Epoch 476/500\n",
            "60/60 [==============================] - 0s 2ms/step - loss: 0.5003 - accuracy: 0.7379 - val_loss: 0.7027 - val_accuracy: 0.6582\n",
            "Epoch 477/500\n",
            "60/60 [==============================] - 0s 2ms/step - loss: 0.5024 - accuracy: 0.7321 - val_loss: 0.7019 - val_accuracy: 0.6582\n",
            "Epoch 478/500\n",
            "60/60 [==============================] - 0s 2ms/step - loss: 0.5040 - accuracy: 0.7421 - val_loss: 0.7019 - val_accuracy: 0.6582\n",
            "Epoch 479/500\n",
            "60/60 [==============================] - 0s 2ms/step - loss: 0.5052 - accuracy: 0.7352 - val_loss: 0.7010 - val_accuracy: 0.6566\n",
            "Epoch 480/500\n",
            "60/60 [==============================] - 0s 2ms/step - loss: 0.5006 - accuracy: 0.7363 - val_loss: 0.7015 - val_accuracy: 0.6566\n",
            "Epoch 481/500\n",
            "60/60 [==============================] - 0s 2ms/step - loss: 0.4988 - accuracy: 0.7395 - val_loss: 0.7011 - val_accuracy: 0.6566\n",
            "Epoch 482/500\n",
            "60/60 [==============================] - 0s 2ms/step - loss: 0.5013 - accuracy: 0.7400 - val_loss: 0.7010 - val_accuracy: 0.6566\n",
            "Epoch 483/500\n",
            "60/60 [==============================] - 0s 2ms/step - loss: 0.5035 - accuracy: 0.7400 - val_loss: 0.7015 - val_accuracy: 0.6566\n",
            "Epoch 484/500\n",
            "60/60 [==============================] - 0s 2ms/step - loss: 0.5038 - accuracy: 0.7352 - val_loss: 0.7021 - val_accuracy: 0.6582\n",
            "Epoch 485/500\n",
            "60/60 [==============================] - 0s 3ms/step - loss: 0.5025 - accuracy: 0.7379 - val_loss: 0.7032 - val_accuracy: 0.6582\n",
            "Epoch 486/500\n",
            "60/60 [==============================] - 0s 2ms/step - loss: 0.5055 - accuracy: 0.7321 - val_loss: 0.7018 - val_accuracy: 0.6582\n",
            "Epoch 487/500\n",
            "60/60 [==============================] - 0s 2ms/step - loss: 0.5004 - accuracy: 0.7331 - val_loss: 0.7027 - val_accuracy: 0.6582\n",
            "Epoch 488/500\n",
            "60/60 [==============================] - 0s 2ms/step - loss: 0.5057 - accuracy: 0.7410 - val_loss: 0.7008 - val_accuracy: 0.6582\n",
            "Epoch 489/500\n",
            "60/60 [==============================] - 0s 2ms/step - loss: 0.4973 - accuracy: 0.7405 - val_loss: 0.7005 - val_accuracy: 0.6582\n",
            "Epoch 490/500\n",
            "60/60 [==============================] - 0s 2ms/step - loss: 0.5028 - accuracy: 0.7405 - val_loss: 0.7010 - val_accuracy: 0.6582\n",
            "Epoch 491/500\n",
            "60/60 [==============================] - 0s 2ms/step - loss: 0.4969 - accuracy: 0.7431 - val_loss: 0.6998 - val_accuracy: 0.6598\n",
            "Epoch 492/500\n",
            "60/60 [==============================] - 0s 2ms/step - loss: 0.4986 - accuracy: 0.7431 - val_loss: 0.7006 - val_accuracy: 0.6598\n",
            "Epoch 493/500\n",
            "60/60 [==============================] - 0s 2ms/step - loss: 0.4967 - accuracy: 0.7416 - val_loss: 0.7025 - val_accuracy: 0.6582\n",
            "Epoch 494/500\n",
            "60/60 [==============================] - 0s 2ms/step - loss: 0.4990 - accuracy: 0.7416 - val_loss: 0.7029 - val_accuracy: 0.6582\n",
            "Epoch 495/500\n",
            "60/60 [==============================] - 0s 2ms/step - loss: 0.4969 - accuracy: 0.7368 - val_loss: 0.7025 - val_accuracy: 0.6582\n",
            "Epoch 496/500\n",
            "60/60 [==============================] - 0s 2ms/step - loss: 0.5012 - accuracy: 0.7363 - val_loss: 0.7012 - val_accuracy: 0.6598\n",
            "Epoch 497/500\n",
            "60/60 [==============================] - 0s 2ms/step - loss: 0.5029 - accuracy: 0.7384 - val_loss: 0.7005 - val_accuracy: 0.6598\n",
            "Epoch 498/500\n",
            "60/60 [==============================] - 0s 2ms/step - loss: 0.5025 - accuracy: 0.7379 - val_loss: 0.7003 - val_accuracy: 0.6598\n",
            "Epoch 499/500\n",
            "60/60 [==============================] - 0s 2ms/step - loss: 0.4988 - accuracy: 0.7384 - val_loss: 0.7010 - val_accuracy: 0.6598\n",
            "Epoch 500/500\n",
            "60/60 [==============================] - 0s 2ms/step - loss: 0.4987 - accuracy: 0.7426 - val_loss: 0.6996 - val_accuracy: 0.6598\n"
          ],
          "name": "stdout"
        },
        {
          "output_type": "execute_result",
          "data": {
            "text/plain": [
              "<tensorflow.python.keras.callbacks.History at 0x7f36718aa630>"
            ]
          },
          "metadata": {
            "tags": []
          },
          "execution_count": 254
        }
      ]
    },
    {
      "cell_type": "code",
      "metadata": {
        "colab": {
          "base_uri": "https://localhost:8080/"
        },
        "id": "3qlUgCDdktJe",
        "outputId": "44ca7480-df5d-4b34-cbc9-6c93d6c19717"
      },
      "source": [
        "cnn_model.summary()"
      ],
      "execution_count": null,
      "outputs": [
        {
          "output_type": "stream",
          "text": [
            "Model: \"sequential_5\"\n",
            "_________________________________________________________________\n",
            "Layer (type)                 Output Shape              Param #   \n",
            "=================================================================\n",
            "conv1d_5 (Conv1D)            (None, 2, 64)             256       \n",
            "_________________________________________________________________\n",
            "flatten_5 (Flatten)          (None, 128)               0         \n",
            "_________________________________________________________________\n",
            "dense_15 (Dense)             (None, 32)                4128      \n",
            "_________________________________________________________________\n",
            "dense_16 (Dense)             (None, 16)                528       \n",
            "_________________________________________________________________\n",
            "dropout_5 (Dropout)          (None, 16)                0         \n",
            "_________________________________________________________________\n",
            "dense_17 (Dense)             (None, 1)                 17        \n",
            "=================================================================\n",
            "Total params: 4,929\n",
            "Trainable params: 4,929\n",
            "Non-trainable params: 0\n",
            "_________________________________________________________________\n"
          ],
          "name": "stdout"
        }
      ]
    },
    {
      "cell_type": "code",
      "metadata": {
        "colab": {
          "base_uri": "https://localhost:8080/"
        },
        "id": "bLpIS8ewlOLR",
        "outputId": "f912659b-e235-43f0-8b3f-27a63fc7b5d1"
      },
      "source": [
        "cnn_pred = average(cnn_model.predict_classes(x_test_reshaped))\n",
        "cnn_prob = cnn_model.predict_proba(x_test_reshaped)\n",
        "accuracy = accuracy_score(y_test, np.array(cnn_pred))\n",
        "roc = roc_auc_score(y_test, cnn_prob)\n",
        "f1 = f1_score(y_test, cnn_pred)\n",
        "\n",
        "print(f'Accuracy : {accuracy}, ROC : {roc}, F1_Score : {f1}')"
      ],
      "execution_count": null,
      "outputs": [
        {
          "output_type": "stream",
          "text": [
            "Accuracy : 0.7072784810126582, ROC : 0.6926474122736741, F1_Score : 0.6580406654343808\n"
          ],
          "name": "stdout"
        }
      ]
    },
    {
      "cell_type": "code",
      "metadata": {
        "colab": {
          "base_uri": "https://localhost:8080/"
        },
        "id": "lPDznR3ynEjf",
        "outputId": "1969128e-87ed-4133-b507-f8a526a71e28"
      },
      "source": [
        "print(confusion_matrix(y_test, cnn_pred))"
      ],
      "execution_count": null,
      "outputs": [
        {
          "output_type": "stream",
          "text": [
            "[[269  47]\n",
            " [138 178]]\n"
          ],
          "name": "stdout"
        }
      ]
    },
    {
      "cell_type": "markdown",
      "metadata": {
        "id": "4HIIE6fr08O_"
      },
      "source": [
        "## KNN"
      ]
    },
    {
      "cell_type": "code",
      "metadata": {
        "id": "GPdgYNxT1A2b"
      },
      "source": [
        "# Determine the best k\n",
        "accuracies = []\n",
        "neighbors =  [x for x in range(6, 40)]\n",
        "for i in neighbors:\n",
        "  knn = KNeighborsClassifier(n_neighbors = i).fit(x_train,y_train)\n",
        "  knn_pred = average(knn.predict(x_test))\n",
        "  acc = accuracy_score(y_test, knn_pred) \n",
        "  accuracies.append(acc)"
      ],
      "execution_count": null,
      "outputs": []
    },
    {
      "cell_type": "code",
      "metadata": {
        "colab": {
          "base_uri": "https://localhost:8080/",
          "height": 408
        },
        "id": "Ab8rUn0e1BBN",
        "outputId": "1295c62c-a4b6-4db0-91db-e5cbcb7347cc"
      },
      "source": [
        "plt.figure(figsize=(10,6))\n",
        "plt.plot(range(6,40), accuracies, color ='blue', marker = 'o', markerfacecolor='yellow')\n",
        "plt.xlabel('Number of neighbors')\n",
        "plt.ylabel('Accuracy')\n",
        "print(f'Maximum accuracy of {max(accuracies)} at k = {accuracies.index(max(accuracies))}')"
      ],
      "execution_count": null,
      "outputs": [
        {
          "output_type": "stream",
          "text": [
            "Maximum accuracy of 0.7531645569620253 at k = 13\n"
          ],
          "name": "stdout"
        },
        {
          "output_type": "display_data",
          "data": {
            "image/png": "[encoded data removed]",
            "text/plain": [
              "<Figure size 720x432 with 1 Axes>"
            ]
          },
          "metadata": {
            "tags": [],
            "needs_background": "light"
          }
        }
      ]
    },
    {
      "cell_type": "code",
      "metadata": {
        "id": "FdpFs3ih1BVE"
      },
      "source": [
        "# Using k = 13\n",
        "knn = KNeighborsClassifier(n_neighbors=13).fit(x_train, y_train)\n",
        "knn_pred = average(knn.predict(x_test))\n",
        "knn_prob = knn.predict_proba(x_test)[:, 1]"
      ],
      "execution_count": null,
      "outputs": []
    },
    {
      "cell_type": "code",
      "metadata": {
        "colab": {
          "base_uri": "https://localhost:8080/"
        },
        "id": "ny9pxkSs1Bc_",
        "outputId": "a2e223f3-c865-451c-d9d1-ac21bf4b9fed"
      },
      "source": [
        "# Confusion matrix\n",
        "confusion_matrix(y_test, knn_pred)"
      ],
      "execution_count": null,
      "outputs": [
        {
          "output_type": "execute_result",
          "data": {
            "text/plain": [
              "array([[261,  55],\n",
              "       [115, 201]])"
            ]
          },
          "metadata": {
            "tags": []
          },
          "execution_count": 261
        }
      ]
    },
    {
      "cell_type": "code",
      "metadata": {
        "colab": {
          "base_uri": "https://localhost:8080/"
        },
        "id": "WVs_8W6Y1B16",
        "outputId": "3a906be0-c5da-4083-9421-2163cdcb52e7"
      },
      "source": [
        "print(classification_report(y_test, knn_pred))"
      ],
      "execution_count": null,
      "outputs": [
        {
          "output_type": "stream",
          "text": [
            "              precision    recall  f1-score   support\n",
            "\n",
            "           0       0.69      0.83      0.75       316\n",
            "           1       0.79      0.64      0.70       316\n",
            "\n",
            "    accuracy                           0.73       632\n",
            "   macro avg       0.74      0.73      0.73       632\n",
            "weighted avg       0.74      0.73      0.73       632\n",
            "\n"
          ],
          "name": "stdout"
        }
      ]
    },
    {
      "cell_type": "code",
      "metadata": {
        "colab": {
          "base_uri": "https://localhost:8080/"
        },
        "id": "DRHwFIG81BTb",
        "outputId": "3573e7c7-9b78-4f57-8553-33b6291dba30"
      },
      "source": [
        "# ROC score\n",
        "print(f'ROC_AUC Score: {roc_auc_score(y_test,knn_prob)}')\n",
        "print('F1 Score: ', f1_score(y_test, knn_pred))"
      ],
      "execution_count": null,
      "outputs": [
        {
          "output_type": "stream",
          "text": [
            "ROC_AUC Score: 0.71927575709021\n",
            "F1 Score:  0.7027972027972028\n"
          ],
          "name": "stdout"
        }
      ]
    },
    {
      "cell_type": "markdown",
      "metadata": {
        "id": "Tl07lGkmnyJH"
      },
      "source": [
        "## XGBOOST"
      ]
    },
    {
      "cell_type": "code",
      "metadata": {
        "id": "frMRxAd-n1Lz"
      },
      "source": [
        "# Initialize the xgboost classifier with base parameters\n",
        "xgboost = XGBClassifier()\n",
        "xgboost.fit(x_train, y_train)\n",
        "xgb_pred = average(xgboost.predict(x_test))\n",
        "xgb_prob = xgboost.predict_proba(x_test)[:, 1]"
      ],
      "execution_count": null,
      "outputs": []
    },
    {
      "cell_type": "code",
      "metadata": {
        "colab": {
          "base_uri": "https://localhost:8080/"
        },
        "id": "E2CdFPktok9s",
        "outputId": "254bd376-0483-4ea4-b866-f60fb9bb15eb"
      },
      "source": [
        "# Classification report\n",
        "print(classification_report(y_test, xgb_pred))"
      ],
      "execution_count": null,
      "outputs": [
        {
          "output_type": "stream",
          "text": [
            "              precision    recall  f1-score   support\n",
            "\n",
            "           0       0.71      0.70      0.70       316\n",
            "           1       0.70      0.71      0.71       316\n",
            "\n",
            "    accuracy                           0.71       632\n",
            "   macro avg       0.71      0.71      0.71       632\n",
            "weighted avg       0.71      0.71      0.71       632\n",
            "\n"
          ],
          "name": "stdout"
        }
      ]
    },
    {
      "cell_type": "code",
      "metadata": {
        "colab": {
          "base_uri": "https://localhost:8080/"
        },
        "id": "0pogMkGkosbF",
        "outputId": "2a544ea6-1797-48de-9754-5233d668a6d1"
      },
      "source": [
        "xgboost.get_params()"
      ],
      "execution_count": null,
      "outputs": [
        {
          "output_type": "execute_result",
          "data": {
            "text/plain": [
              "{'base_score': 0.5,\n",
              " 'booster': 'gbtree',\n",
              " 'colsample_bylevel': 1,\n",
              " 'colsample_bynode': 1,\n",
              " 'colsample_bytree': 1,\n",
              " 'gamma': 0,\n",
              " 'learning_rate': 0.1,\n",
              " 'max_delta_step': 0,\n",
              " 'max_depth': 3,\n",
              " 'min_child_weight': 1,\n",
              " 'missing': None,\n",
              " 'n_estimators': 100,\n",
              " 'n_jobs': 1,\n",
              " 'nthread': None,\n",
              " 'objective': 'binary:logistic',\n",
              " 'random_state': 0,\n",
              " 'reg_alpha': 0,\n",
              " 'reg_lambda': 1,\n",
              " 'scale_pos_weight': 1,\n",
              " 'seed': None,\n",
              " 'silent': None,\n",
              " 'subsample': 1,\n",
              " 'verbosity': 1}"
            ]
          },
          "metadata": {
            "tags": []
          },
          "execution_count": 275
        }
      ]
    },
    {
      "cell_type": "code",
      "metadata": {
        "colab": {
          "base_uri": "https://localhost:8080/"
        },
        "id": "vTm6gpMko4Gg",
        "outputId": "d76564dc-8a22-4568-a3fb-9d3fb775b1e8"
      },
      "source": [
        "# confusion matrix\n",
        "confusion_matrix(y_test, xgb_pred)"
      ],
      "execution_count": null,
      "outputs": [
        {
          "output_type": "execute_result",
          "data": {
            "text/plain": [
              "array([[222,  94],\n",
              "       [ 92, 224]])"
            ]
          },
          "metadata": {
            "tags": []
          },
          "execution_count": 276
        }
      ]
    },
    {
      "cell_type": "code",
      "metadata": {
        "colab": {
          "base_uri": "https://localhost:8080/"
        },
        "id": "qWSgxKZUpLdC",
        "outputId": "773cb6db-7133-41ba-f01b-d2e842089843"
      },
      "source": [
        "# ROC Score\n",
        "print('ROC AUC: ', roc_auc_score(y_test, xgb_prob))\n",
        "print('F1 Score: ', f1_score(y_test, xgb_pred))"
      ],
      "execution_count": null,
      "outputs": [
        {
          "output_type": "stream",
          "text": [
            "ROC AUC:  0.7310126582278481\n",
            "F1 Score:  0.7066246056782334\n"
          ],
          "name": "stdout"
        }
      ]
    },
    {
      "cell_type": "code",
      "metadata": {
        "id": "smnqeCkgpWpa"
      },
      "source": [
        "# Define parameter grid for parameter tuning\n",
        "param_grid_xgb = {\n",
        "    'max_depth': np.arange(80, 200, 10),\n",
        "    'min_samples_leaf': [2,3],\n",
        "    'n_estimators': [100, 200, 300, 500, 800]\n",
        "}\n",
        "# Perform cross validation\n",
        "grid_search_xgb = GridSearchCV(estimator = XGBClassifier(), param_grid = param_grid_xgb, cv = 3, n_jobs = -1, verbose = 0, scoring='roc_auc')"
      ],
      "execution_count": null,
      "outputs": []
    },
    {
      "cell_type": "code",
      "metadata": {
        "colab": {
          "base_uri": "https://localhost:8080/"
        },
        "id": "w1JmYT5hpv8j",
        "outputId": "579a1f7b-513d-4052-9acc-b3f2397e1b79"
      },
      "source": [
        "# Fit model\n",
        "grid_search_xgb.fit(x_train, y_train)\n",
        "print(grid_search_xgb.best_params_)\n",
        "print(grid_search_xgb.best_score_)"
      ],
      "execution_count": null,
      "outputs": [
        {
          "output_type": "stream",
          "text": [
            "{'max_depth': 80, 'min_samples_leaf': 2, 'n_estimators': 100}\n",
            "0.701974176146985\n"
          ],
          "name": "stdout"
        }
      ]
    },
    {
      "cell_type": "code",
      "metadata": {
        "id": "VRhbph70qUgs"
      },
      "source": [
        "# Make predictions\n",
        "improved_xgb = XGBClassifier(max_depth=80, min_samples_leaf=2, n_estimators=100).fit(x_train, y_train)\n",
        "xgb_pred = average(improved_xgb.predict(x_test))\n",
        "xgb_prob = improved_xgb.predict_proba(x_test)[:, 1]"
      ],
      "execution_count": null,
      "outputs": []
    },
    {
      "cell_type": "code",
      "metadata": {
        "colab": {
          "base_uri": "https://localhost:8080/"
        },
        "id": "q8skzOFqDANX",
        "outputId": "069e2f6d-b759-4b4e-cb7f-1ce434cf7205"
      },
      "source": [
        "print(classification_report(y_test, xgb_pred))"
      ],
      "execution_count": null,
      "outputs": [
        {
          "output_type": "stream",
          "text": [
            "              precision    recall  f1-score   support\n",
            "\n",
            "           0       0.69      0.68      0.69       316\n",
            "           1       0.69      0.70      0.69       316\n",
            "\n",
            "    accuracy                           0.69       632\n",
            "   macro avg       0.69      0.69      0.69       632\n",
            "weighted avg       0.69      0.69      0.69       632\n",
            "\n"
          ],
          "name": "stdout"
        }
      ]
    },
    {
      "cell_type": "code",
      "metadata": {
        "colab": {
          "base_uri": "https://localhost:8080/"
        },
        "id": "m6niEb3vDL4S",
        "outputId": "f045ac47-f2cf-43e0-c90a-e8deb727bb74"
      },
      "source": [
        "print('ROC AUC score: ', roc_auc_score(y_test,xgb_prob))\n",
        "print('F1 Score: ', f1_score(y_test, xgb_pred))"
      ],
      "execution_count": null,
      "outputs": [
        {
          "output_type": "stream",
          "text": [
            "ROC AUC score:  0.7153000320461465\n",
            "F1 Score:  0.6907378335949765\n"
          ],
          "name": "stdout"
        }
      ]
    }
  ]
}
