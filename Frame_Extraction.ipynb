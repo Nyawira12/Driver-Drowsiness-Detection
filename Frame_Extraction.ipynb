{
  "nbformat": 4,
  "nbformat_minor": 0,
  "metadata": {
    "colab": {
      "name": "Frame Extraction.ipynb",
      "provenance": []
    },
    "kernelspec": {
      "name": "python3",
      "display_name": "Python 3"
    }
  },
  "cells": [
    {
      "cell_type": "code",
      "metadata": {
        "colab": {
          "base_uri": "https://localhost:8080/"
        },
        "id": "pu2xwR2E2bJL",
        "outputId": "ae00946f-da10-47a6-eaa8-66faeeb67da2"
      },
      "source": [
        "!wget http://vlm1.uta.edu/~athitsos/projects/drowsiness/Fold2_part1.zip\n",
        "!unzip Fold2_part1.zip"
      ],
      "execution_count": null,
      "outputs": [
        {
          "output_type": "stream",
          "text": [
            "--2020-12-01 13:34:20--  http://vlm1.uta.edu/~athitsos/projects/drowsiness/Fold2_part1.zip\n",
            "Resolving vlm1.uta.edu (vlm1.uta.edu)... 129.107.118.39\n",
            "Connecting to vlm1.uta.edu (vlm1.uta.edu)|129.107.118.39|:80... connected.\n",
            "HTTP request sent, awaiting response... 200 OK\n",
            "Length: 11333579094 (11G) [application/zip]\n",
            "Saving to: ‘Fold2_part1.zip’\n",
            "\n",
            "Fold2_part1.zip     100%[===================>]  10.55G  23.1MB/s    in 7m 12s  \n",
            "\n",
            "2020-12-01 13:41:32 (25.0 MB/s) - ‘Fold2_part1.zip’ saved [11333579094/11333579094]\n",
            "\n",
            "Archive:  Fold2_part1.zip\n",
            "   creating: Fold2_part1/\n",
            "   creating: Fold2_part1/13/\n",
            "  inflating: Fold2_part1/13/5.mp4    \n",
            "  inflating: Fold2_part1/13/10.mp4   \n",
            "  inflating: Fold2_part1/13/0.mp4    \n",
            "   creating: Fold2_part1/18/\n",
            "  inflating: Fold2_part1/18/5.mov    \n",
            "  inflating: Fold2_part1/18/0.mov    \n",
            "  inflating: Fold2_part1/18/10.mov   \n",
            "   creating: Fold2_part1/16/\n",
            "  inflating: Fold2_part1/16/0.MOV    \n",
            "  inflating: Fold2_part1/16/5.MOV    \n",
            "  inflating: Fold2_part1/16/10.MOV   \n",
            "   creating: Fold2_part1/14/\n",
            "  inflating: Fold2_part1/14/10.mp4   \n",
            "  inflating: Fold2_part1/14/0.mp4    \n",
            "  inflating: Fold2_part1/14/5.mp4    \n",
            "   creating: Fold2_part1/15/\n",
            "  inflating: Fold2_part1/15/5.mp4    \n",
            "  inflating: Fold2_part1/15/0.mp4    \n",
            "  inflating: Fold2_part1/15/10.mp4   \n",
            "   creating: Fold2_part1/17/\n",
            "  inflating: Fold2_part1/17/10.mp4   \n",
            "  inflating: Fold2_part1/17/0.mp4    \n",
            "  inflating: Fold2_part1/17/5.mp4    \n"
          ],
          "name": "stdout"
        }
      ]
    },
    {
      "cell_type": "code",
      "metadata": {
        "colab": {
          "base_uri": "https://localhost:8080/"
        },
        "id": "ou7wgPuG3aCY",
        "outputId": "ad184b0e-7908-4f09-b14b-81d9190f129f"
      },
      "source": [
        "from google.colab import drive\n",
        "drive.mount('/content/drive')"
      ],
      "execution_count": null,
      "outputs": [
        {
          "output_type": "stream",
          "text": [
            "Mounted at /content/drive\n"
          ],
          "name": "stdout"
        }
      ]
    },
    {
      "cell_type": "code",
      "metadata": {
        "id": "kWdnO0zK6gOb"
      },
      "source": [
        "!pip install dlib\n",
        "!pip install face_recognition\n",
        "!pip install opencv-python"
      ],
      "execution_count": null,
      "outputs": []
    },
    {
      "cell_type": "code",
      "metadata": {
        "id": "Ge9zpX4G693C"
      },
      "source": [
        "import cv2\n",
        "import matplotlib.pyplot as plt\n",
        "import numpy as np"
      ],
      "execution_count": null,
      "outputs": []
    },
    {
      "cell_type": "code",
      "metadata": {
        "id": "YOpUQNUd7E-o"
      },
      "source": [
        "def video_to_frames(path):\n",
        "  # Array of video frames\n",
        "  video_frames = []\n",
        "  # Start capturing the feed\n",
        "  cap = cv2.VideoCapture(path)\n",
        "  # Find the number of frames\n",
        "  video_length = int(cap.get(cv2.CAP_PROP_FRAME_COUNT))\n",
        "  print (\"Number of frames: \", video_length)\n",
        "\n",
        "  # Save frame every 3 seconds\n",
        "  seconds = 3\n",
        "  fps = cap.get(cv2.CAP_PROP_FPS)\n",
        "  print('Frames per second: ', fps)\n",
        "\n",
        "  # number of frames to skip\n",
        "  multiplier = fps * seconds\n",
        "  frame_counter = 0\n",
        "\n",
        "  while frame_counter <= video_length:\n",
        "    cap.set(cv2.CAP_PROP_POS_FRAMES, frame_counter)\n",
        "    ret, frame = cap.read()\n",
        "    # Convert frame to rgb\n",
        "    frame_rgb =  cv2.cvtColor(frame, cv2.COLOR_BGR2RGB)\n",
        "    video_frames.append(frame_rgb)\n",
        "    frame_counter += multiplier\n",
        "\n",
        "\n",
        "  print('Frames captured: ', len(video_frames))\n",
        "  return video_frames\n",
        "\n",
        " "
      ],
      "execution_count": null,
      "outputs": []
    },
    {
      "cell_type": "code",
      "metadata": {
        "id": "NVBZ6WSo9VpT"
      },
      "source": [
        "folder_path = '/content/Fold2_part1'\n",
        "output_path = '/content/drive/MyDrive/Team Epic - Driver Drowsiness Detection'"
      ],
      "execution_count": null,
      "outputs": []
    },
    {
      "cell_type": "code",
      "metadata": {
        "colab": {
          "base_uri": "https://localhost:8080/"
        },
        "id": "VNKySzeD9ggO",
        "outputId": "9129bc59-5d2e-42ce-f106-b0021d7fd6f7"
      },
      "source": [
        "for i in range(13, 16):\n",
        "  for j in range(0,11,5):\n",
        "    video_path = folder_path + '/' + str(i) + '/' + str(j) + '.mp4'\n",
        "    captured_frames = video_to_frames(video_path)\n",
        "    file_path = output_path + '/' + str(i) + '_' + str(j) + '.npy'\n",
        "    np.save(file_path, np.asarray(captured_frames))"
      ],
      "execution_count": null,
      "outputs": [
        {
          "output_type": "stream",
          "text": [
            "Number of frames:  18236\n",
            "Frames per second:  29.78902165541211\n",
            "Frames captured:  205\n",
            "Number of frames:  20477\n",
            "Frames per second:  29.78870102526485\n",
            "Frames captured:  230\n",
            "Number of frames:  18486\n",
            "Frames per second:  29.789651477514717\n",
            "Frames captured:  207\n",
            "Number of frames:  18386\n",
            "Frames per second:  30.000032633561005\n",
            "Frames captured:  205\n",
            "Number of frames:  19742\n",
            "Frames per second:  29.849765353809886\n",
            "Frames captured:  221\n",
            "Number of frames:  18692\n",
            "Frames per second:  30.000032099328163\n",
            "Frames captured:  208\n",
            "Number of frames:  19301\n",
            "Frames per second:  30.001013453228925\n",
            "Frames captured:  215\n",
            "Number of frames:  18541\n",
            "Frames per second:  30.000920690570787\n",
            "Frames captured:  207\n",
            "Number of frames:  18483\n",
            "Frames per second:  30.000256454066967\n",
            "Frames captured:  206\n"
          ],
          "name": "stdout"
        }
      ]
    },
    {
      "cell_type": "code",
      "metadata": {
        "colab": {
          "base_uri": "https://localhost:8080/"
        },
        "id": "3pfEruwpDzgz",
        "outputId": "6f292b7d-5a77-4fb3-9c4b-aa3233240279"
      },
      "source": [
        "# Extract frames for folders 16, 17,18\n",
        "for j in range(0,11,5):\n",
        "  video_path = folder_path + '/' + str(16) + '/' + str(j) + '.MOV'\n",
        "  captured_frames = video_to_frames(video_path)\n",
        "  file_path = output_path + '/' + str(16) + '_' + str(j) + '.npy'\n",
        "  np.save(file_path, np.asarray(captured_frames))\n",
        "\n",
        " "
      ],
      "execution_count": null,
      "outputs": [
        {
          "output_type": "stream",
          "text": [
            "Number of frames:  11357\n",
            "Frames per second:  24.006425948592412\n",
            "Frames captured:  158\n",
            "Number of frames:  14488\n",
            "Frames per second:  24.00642911059632\n",
            "Frames captured:  202\n",
            "Number of frames:  14491\n",
            "Frames per second:  24.00642777761091\n",
            "Frames captured:  202\n"
          ],
          "name": "stdout"
        }
      ]
    },
    {
      "cell_type": "code",
      "metadata": {
        "colab": {
          "base_uri": "https://localhost:8080/"
        },
        "id": "oKSsrRH2IyYn",
        "outputId": "11d2ab52-ba1a-4230-8e7d-60f5e18d8ba7"
      },
      "source": [
        "for j in range(0,11,5):\n",
        "  video_path = folder_path + '/' + str(17) + '/' + str(j) + '.mp4'\n",
        "  captured_frames = video_to_frames(video_path)\n",
        "  file_path = output_path + '/' + str(17) + '_' + str(j) + '.npy'\n",
        "  np.save(file_path, np.asarray(captured_frames))"
      ],
      "execution_count": null,
      "outputs": [
        {
          "output_type": "stream",
          "text": [
            "Number of frames:  18121\n",
            "Frames per second:  29.97002997002997\n",
            "Frames captured:  202\n",
            "Number of frames:  18245\n",
            "Frames per second:  29.97002997002997\n",
            "Frames captured:  203\n",
            "Number of frames:  18212\n",
            "Frames per second:  29.9375227636899\n",
            "Frames captured:  203\n"
          ],
          "name": "stdout"
        }
      ]
    },
    {
      "cell_type": "code",
      "metadata": {
        "colab": {
          "base_uri": "https://localhost:8080/"
        },
        "id": "Q4UWEEvpJGUb",
        "outputId": "e48f0af7-725e-4d89-bd64-c140ae7f84aa"
      },
      "source": [
        "for j in range(0,11,5):\n",
        "  video_path = folder_path + '/' + str(18) + '/' + str(j) + '.mov'\n",
        "  captured_frames = video_to_frames(video_path)\n",
        "  file_path = output_path + '/' + str(18) + '_' + str(j) + '.npy'\n",
        "  np.save(file_path, np.asarray(captured_frames))"
      ],
      "execution_count": null,
      "outputs": [
        {
          "output_type": "stream",
          "text": [
            "Number of frames:  11672\n",
            "Frames per second:  19.366346161823145\n",
            "Frames captured:  201\n",
            "Number of frames:  8975\n",
            "Frames per second:  14.858246533765607\n",
            "Frames captured:  202\n",
            "Number of frames:  7676\n",
            "Frames per second:  12.002220316942426\n",
            "Frames captured:  214\n"
          ],
          "name": "stdout"
        }
      ]
    },
    {
      "cell_type": "code",
      "metadata": {
        "id": "kyFvuZwJLqEi"
      },
      "source": [
        ""
      ],
      "execution_count": null,
      "outputs": []
    }
  ]
}