{
  "nbformat": 4,
  "nbformat_minor": 0,
  "metadata": {
    "colab": {
      "name": "Feature Extraction and Normalization.ipynb",
      "provenance": [],
      "collapsed_sections": [],
      "toc_visible": true
    },
    "kernelspec": {
      "name": "python3",
      "display_name": "Python 3"
    }
  },
  "cells": [
    {
      "cell_type": "markdown",
      "metadata": {
        "id": "0zoK6A1Bizmi"
      },
      "source": [
        "## Feature Extraction"
      ]
    },
    {
      "cell_type": "code",
      "metadata": {
        "id": "Sg5homdCxd-v"
      },
      "source": [
        "from scipy.spatial import distance as dist\n",
        "import numpy as np\n",
        "import pandas as pd\n",
        "import math"
      ],
      "execution_count": null,
      "outputs": []
    },
    {
      "cell_type": "code",
      "metadata": {
        "id": "VqRjXyPLyLcf"
      },
      "source": [
        "def eye_aspect_ratio(eye):\n",
        "\t# compute the euclidean distances between the two sets of\n",
        "\t# vertical eye landmarks (x, y)-coordinates\n",
        "\tA = dist.euclidean(eye[1], eye[5])\n",
        "\tB = dist.euclidean(eye[2], eye[4])\n",
        "\t# compute the euclidean distance between the horizontal\n",
        "\t# eye landmark (x, y)-coordinates\n",
        "\tC = dist.euclidean(eye[0], eye[3])\n",
        "\t# compute the eye aspect ratio\n",
        "\tear = (A + B) / (2.0 * C)\n",
        "\t# return the eye aspect ratio\n",
        "\treturn ear"
      ],
      "execution_count": null,
      "outputs": []
    },
    {
      "cell_type": "code",
      "metadata": {
        "id": "DB1Yr-wPyUAH"
      },
      "source": [
        "def mouth_aspect_ratio(mouth):\n",
        "    A = dist.euclidean(mouth[14], mouth[18])\n",
        "    C = dist.euclidean(mouth[12], mouth[16])\n",
        "    mar = (A ) / (C)\n",
        "    return mar"
      ],
      "execution_count": null,
      "outputs": []
    },
    {
      "cell_type": "code",
      "metadata": {
        "id": "jj-ImPDeyZHA"
      },
      "source": [
        "def circularity(eye):\n",
        "    A = dist.euclidean(eye[1], eye[4])\n",
        "    radius  = A/2.0\n",
        "    Area = math.pi * (radius ** 2)\n",
        "    p = 0\n",
        "    p += dist.euclidean(eye[0], eye[1])\n",
        "    p += dist.euclidean(eye[1], eye[2])\n",
        "    p += dist.euclidean(eye[2], eye[3])\n",
        "    p += dist.euclidean(eye[3], eye[4])\n",
        "    p += dist.euclidean(eye[4], eye[5])\n",
        "    p += dist.euclidean(eye[5], eye[0])\n",
        "    return 4 * math.pi * Area /(p**2)"
      ],
      "execution_count": null,
      "outputs": []
    },
    {
      "cell_type": "code",
      "metadata": {
        "id": "uV3lvmImyiAi"
      },
      "source": [
        "def average_ear(left_eye, right_eye):\n",
        "  return np.mean([left_eye, right_eye])"
      ],
      "execution_count": null,
      "outputs": []
    },
    {
      "cell_type": "code",
      "metadata": {
        "id": "YRiLQ1OYypNW"
      },
      "source": [
        "def mouth_over_eye(ear, mar):\n",
        "  mouth_eye = mar/ear\n",
        "  return mouth_eye"
      ],
      "execution_count": null,
      "outputs": []
    },
    {
      "cell_type": "code",
      "metadata": {
        "id": "xcmel1WTyvKy"
      },
      "source": [
        "landmarks_13_15 = np.load('features_13_to_15.npy')\n",
        "landmarks_16_18 = np.load('features_16_to_18.npy')\n",
        "individuals_13_15 = np.load('individuals_13_to_15.npy')\n",
        "individuals_16_18 = np.load('individuals_16_to_18.npy')\n",
        "labels_13_15 = np.load('labels_13_to_15.npy')\n",
        "labels_16_18 = np.load('labels_16_to_18.npy')"
      ],
      "execution_count": null,
      "outputs": []
    },
    {
      "cell_type": "code",
      "metadata": {
        "colab": {
          "base_uri": "https://localhost:8080/"
        },
        "id": "aPkHFF3azJXs",
        "outputId": "14562e38-52a0-42f1-c576-90eff4ee476e"
      },
      "source": [
        "print(landmarks_13_15.shape)\n",
        "print(landmarks_16_18.shape)\n",
        "print(individuals_13_15.shape)\n",
        "print(individuals_16_18.shape)\n",
        "print(labels_13_15.shape)\n",
        "print(labels_16_18.shape)"
      ],
      "execution_count": null,
      "outputs": [
        {
          "output_type": "stream",
          "text": [
            "(1887, 68, 2)\n",
            "(1767, 68, 2)\n",
            "(1887,)\n",
            "(1767,)\n",
            "(1887,)\n",
            "(1767,)\n"
          ],
          "name": "stdout"
        }
      ]
    },
    {
      "cell_type": "code",
      "metadata": {
        "id": "CNQlq-W50zA5"
      },
      "source": [
        "# Combine both files\n",
        "landmarks_all = np.concatenate((landmarks_13_15,landmarks_16_18))\n",
        "individuals_all = np.concatenate((individuals_13_15,individuals_16_18))\n",
        "labels_all = np.concatenate((labels_13_15,labels_16_18))"
      ],
      "execution_count": null,
      "outputs": []
    },
    {
      "cell_type": "code",
      "metadata": {
        "id": "PIVWzbWt8WyO"
      },
      "source": [
        "extracted_features = []\n",
        "\n",
        "for mark in landmarks_all:\n",
        "  left_eye = mark[36:42]\n",
        "  right_eye = mark[42:48]\n",
        "  mouth = mark[48:68]\n",
        "  left_EAR = eye_aspect_ratio(left_eye)\n",
        "  right_EAR = eye_aspect_ratio(right_eye)\n",
        "  left_PUC = circularity(left_eye)\n",
        "  right_PUC = circularity(right_eye)\n",
        "  PUC = np.mean([left_PUC,right_PUC])\n",
        "  MAR = mouth_aspect_ratio(mouth)\n",
        "  EAR = average_ear(left_EAR, right_EAR)\n",
        "  MOE = mouth_over_eye(EAR,MAR)\n",
        "  features = [EAR, MAR, MOE, PUC]\n",
        "  extracted_features.append(features)\n",
        "\n",
        "\n",
        "\n",
        "  "
      ],
      "execution_count": null,
      "outputs": []
    },
    {
      "cell_type": "code",
      "metadata": {
        "id": "xi0EgIAP9QSk"
      },
      "source": [
        "image_features = pd.DataFrame(np.asarray(extracted_features), columns=['EAR', 'MAR', 'MOE', 'PUC'])\n",
        "image_features['labels'] = labels_all\n",
        "image_features['individuals'] = individuals_all"
      ],
      "execution_count": null,
      "outputs": []
    },
    {
      "cell_type": "code",
      "metadata": {
        "colab": {
          "base_uri": "https://localhost:8080/",
          "height": 191
        },
        "id": "0HoGlF53N-zW",
        "outputId": "82c77a4a-1d10-4b60-bfb6-f68521257ed7"
      },
      "source": [
        "image_features.head()"
      ],
      "execution_count": null,
      "outputs": [
        {
          "output_type": "execute_result",
          "data": {
            "text/html": [
              "<div>\n",
              "<style scoped>\n",
              "    .dataframe tbody tr th:only-of-type {\n",
              "        vertical-align: middle;\n",
              "    }\n",
              "\n",
              "    .dataframe tbody tr th {\n",
              "        vertical-align: top;\n",
              "    }\n",
              "\n",
              "    .dataframe thead th {\n",
              "        text-align: right;\n",
              "    }\n",
              "</style>\n",
              "<table border=\"1\" class=\"dataframe\">\n",
              "  <thead>\n",
              "    <tr style=\"text-align: right;\">\n",
              "      <th></th>\n",
              "      <th>EAR</th>\n",
              "      <th>MAR</th>\n",
              "      <th>MOE</th>\n",
              "      <th>PUC</th>\n",
              "      <th>labels</th>\n",
              "      <th>individuals</th>\n",
              "    </tr>\n",
              "  </thead>\n",
              "  <tbody>\n",
              "    <tr>\n",
              "      <th>0</th>\n",
              "      <td>0.275309</td>\n",
              "      <td>0.016793</td>\n",
              "      <td>0.060997</td>\n",
              "      <td>0.461757</td>\n",
              "      <td>0</td>\n",
              "      <td>13</td>\n",
              "    </tr>\n",
              "    <tr>\n",
              "      <th>1</th>\n",
              "      <td>0.303325</td>\n",
              "      <td>0.134450</td>\n",
              "      <td>0.443253</td>\n",
              "      <td>0.498823</td>\n",
              "      <td>0</td>\n",
              "      <td>13</td>\n",
              "    </tr>\n",
              "    <tr>\n",
              "      <th>2</th>\n",
              "      <td>0.306427</td>\n",
              "      <td>0.090308</td>\n",
              "      <td>0.294714</td>\n",
              "      <td>0.505097</td>\n",
              "      <td>0</td>\n",
              "      <td>13</td>\n",
              "    </tr>\n",
              "    <tr>\n",
              "      <th>3</th>\n",
              "      <td>0.310777</td>\n",
              "      <td>0.125623</td>\n",
              "      <td>0.404223</td>\n",
              "      <td>0.489660</td>\n",
              "      <td>0</td>\n",
              "      <td>13</td>\n",
              "    </tr>\n",
              "    <tr>\n",
              "      <th>4</th>\n",
              "      <td>0.318539</td>\n",
              "      <td>0.047389</td>\n",
              "      <td>0.148770</td>\n",
              "      <td>0.515814</td>\n",
              "      <td>0</td>\n",
              "      <td>13</td>\n",
              "    </tr>\n",
              "  </tbody>\n",
              "</table>\n",
              "</div>"
            ],
            "text/plain": [
              "        EAR       MAR       MOE       PUC  labels  individuals\n",
              "0  0.275309  0.016793  0.060997  0.461757       0           13\n",
              "1  0.303325  0.134450  0.443253  0.498823       0           13\n",
              "2  0.306427  0.090308  0.294714  0.505097       0           13\n",
              "3  0.310777  0.125623  0.404223  0.489660       0           13\n",
              "4  0.318539  0.047389  0.148770  0.515814       0           13"
            ]
          },
          "metadata": {
            "tags": []
          },
          "execution_count": 43
        }
      ]
    },
    {
      "cell_type": "code",
      "metadata": {
        "colab": {
          "base_uri": "https://localhost:8080/",
          "height": 593
        },
        "id": "dmn3wU0HPZpZ",
        "outputId": "9bb24de3-a193-45ab-e6dd-d848706bc561"
      },
      "source": [
        "image_features.groupby(['individuals','labels']).mean()"
      ],
      "execution_count": null,
      "outputs": [
        {
          "output_type": "execute_result",
          "data": {
            "text/html": [
              "<div>\n",
              "<style scoped>\n",
              "    .dataframe tbody tr th:only-of-type {\n",
              "        vertical-align: middle;\n",
              "    }\n",
              "\n",
              "    .dataframe tbody tr th {\n",
              "        vertical-align: top;\n",
              "    }\n",
              "\n",
              "    .dataframe thead th {\n",
              "        text-align: right;\n",
              "    }\n",
              "</style>\n",
              "<table border=\"1\" class=\"dataframe\">\n",
              "  <thead>\n",
              "    <tr style=\"text-align: right;\">\n",
              "      <th></th>\n",
              "      <th></th>\n",
              "      <th>EAR</th>\n",
              "      <th>MAR</th>\n",
              "      <th>MOE</th>\n",
              "      <th>PUC</th>\n",
              "    </tr>\n",
              "    <tr>\n",
              "      <th>individuals</th>\n",
              "      <th>labels</th>\n",
              "      <th></th>\n",
              "      <th></th>\n",
              "      <th></th>\n",
              "      <th></th>\n",
              "    </tr>\n",
              "  </thead>\n",
              "  <tbody>\n",
              "    <tr>\n",
              "      <th rowspan=\"3\" valign=\"top\">13</th>\n",
              "      <th>0</th>\n",
              "      <td>0.306881</td>\n",
              "      <td>0.041948</td>\n",
              "      <td>0.135803</td>\n",
              "      <td>0.500680</td>\n",
              "    </tr>\n",
              "    <tr>\n",
              "      <th>5</th>\n",
              "      <td>0.324143</td>\n",
              "      <td>0.023881</td>\n",
              "      <td>0.075861</td>\n",
              "      <td>0.517647</td>\n",
              "    </tr>\n",
              "    <tr>\n",
              "      <th>10</th>\n",
              "      <td>0.255030</td>\n",
              "      <td>0.016363</td>\n",
              "      <td>0.066660</td>\n",
              "      <td>0.426759</td>\n",
              "    </tr>\n",
              "    <tr>\n",
              "      <th rowspan=\"3\" valign=\"top\">14</th>\n",
              "      <th>0</th>\n",
              "      <td>0.346411</td>\n",
              "      <td>0.030084</td>\n",
              "      <td>0.089253</td>\n",
              "      <td>0.550386</td>\n",
              "    </tr>\n",
              "    <tr>\n",
              "      <th>5</th>\n",
              "      <td>0.260380</td>\n",
              "      <td>0.032602</td>\n",
              "      <td>0.125777</td>\n",
              "      <td>0.442671</td>\n",
              "    </tr>\n",
              "    <tr>\n",
              "      <th>10</th>\n",
              "      <td>0.345198</td>\n",
              "      <td>0.026691</td>\n",
              "      <td>0.080933</td>\n",
              "      <td>0.543494</td>\n",
              "    </tr>\n",
              "    <tr>\n",
              "      <th rowspan=\"3\" valign=\"top\">15</th>\n",
              "      <th>0</th>\n",
              "      <td>0.260990</td>\n",
              "      <td>0.013733</td>\n",
              "      <td>0.055568</td>\n",
              "      <td>0.439973</td>\n",
              "    </tr>\n",
              "    <tr>\n",
              "      <th>5</th>\n",
              "      <td>0.265163</td>\n",
              "      <td>0.019825</td>\n",
              "      <td>0.075549</td>\n",
              "      <td>0.434708</td>\n",
              "    </tr>\n",
              "    <tr>\n",
              "      <th>10</th>\n",
              "      <td>0.196825</td>\n",
              "      <td>0.017213</td>\n",
              "      <td>0.089630</td>\n",
              "      <td>0.369482</td>\n",
              "    </tr>\n",
              "    <tr>\n",
              "      <th rowspan=\"3\" valign=\"top\">16</th>\n",
              "      <th>0</th>\n",
              "      <td>0.349603</td>\n",
              "      <td>0.029186</td>\n",
              "      <td>0.082693</td>\n",
              "      <td>0.512677</td>\n",
              "    </tr>\n",
              "    <tr>\n",
              "      <th>5</th>\n",
              "      <td>0.358714</td>\n",
              "      <td>0.092891</td>\n",
              "      <td>0.256682</td>\n",
              "      <td>0.528429</td>\n",
              "    </tr>\n",
              "    <tr>\n",
              "      <th>10</th>\n",
              "      <td>0.292913</td>\n",
              "      <td>0.084225</td>\n",
              "      <td>0.295863</td>\n",
              "      <td>0.450662</td>\n",
              "    </tr>\n",
              "    <tr>\n",
              "      <th rowspan=\"3\" valign=\"top\">17</th>\n",
              "      <th>0</th>\n",
              "      <td>0.334104</td>\n",
              "      <td>0.010339</td>\n",
              "      <td>0.030722</td>\n",
              "      <td>0.523092</td>\n",
              "    </tr>\n",
              "    <tr>\n",
              "      <th>5</th>\n",
              "      <td>0.298407</td>\n",
              "      <td>0.009407</td>\n",
              "      <td>0.034728</td>\n",
              "      <td>0.474774</td>\n",
              "    </tr>\n",
              "    <tr>\n",
              "      <th>10</th>\n",
              "      <td>0.280566</td>\n",
              "      <td>0.018462</td>\n",
              "      <td>0.070467</td>\n",
              "      <td>0.448681</td>\n",
              "    </tr>\n",
              "    <tr>\n",
              "      <th rowspan=\"3\" valign=\"top\">18</th>\n",
              "      <th>0</th>\n",
              "      <td>0.255909</td>\n",
              "      <td>0.044286</td>\n",
              "      <td>0.177535</td>\n",
              "      <td>0.443114</td>\n",
              "    </tr>\n",
              "    <tr>\n",
              "      <th>5</th>\n",
              "      <td>0.241340</td>\n",
              "      <td>0.116419</td>\n",
              "      <td>0.508609</td>\n",
              "      <td>0.404238</td>\n",
              "    </tr>\n",
              "    <tr>\n",
              "      <th>10</th>\n",
              "      <td>0.197509</td>\n",
              "      <td>0.083002</td>\n",
              "      <td>0.465390</td>\n",
              "      <td>0.367675</td>\n",
              "    </tr>\n",
              "  </tbody>\n",
              "</table>\n",
              "</div>"
            ],
            "text/plain": [
              "                         EAR       MAR       MOE       PUC\n",
              "individuals labels                                        \n",
              "13          0       0.306881  0.041948  0.135803  0.500680\n",
              "            5       0.324143  0.023881  0.075861  0.517647\n",
              "            10      0.255030  0.016363  0.066660  0.426759\n",
              "14          0       0.346411  0.030084  0.089253  0.550386\n",
              "            5       0.260380  0.032602  0.125777  0.442671\n",
              "            10      0.345198  0.026691  0.080933  0.543494\n",
              "15          0       0.260990  0.013733  0.055568  0.439973\n",
              "            5       0.265163  0.019825  0.075549  0.434708\n",
              "            10      0.196825  0.017213  0.089630  0.369482\n",
              "16          0       0.349603  0.029186  0.082693  0.512677\n",
              "            5       0.358714  0.092891  0.256682  0.528429\n",
              "            10      0.292913  0.084225  0.295863  0.450662\n",
              "17          0       0.334104  0.010339  0.030722  0.523092\n",
              "            5       0.298407  0.009407  0.034728  0.474774\n",
              "            10      0.280566  0.018462  0.070467  0.448681\n",
              "18          0       0.255909  0.044286  0.177535  0.443114\n",
              "            5       0.241340  0.116419  0.508609  0.404238\n",
              "            10      0.197509  0.083002  0.465390  0.367675"
            ]
          },
          "metadata": {
            "tags": []
          },
          "execution_count": 44
        }
      ]
    },
    {
      "cell_type": "code",
      "metadata": {
        "colab": {
          "base_uri": "https://localhost:8080/"
        },
        "id": "iUZbrbgBbgwP",
        "outputId": "90a7247a-75ab-4bb6-a4c2-c8905328efc8"
      },
      "source": [
        "# Number of frames in each video per individual\n",
        "image_features.groupby(['individuals','labels'])['EAR'].count()"
      ],
      "execution_count": null,
      "outputs": [
        {
          "output_type": "execute_result",
          "data": {
            "text/plain": [
              "individuals  labels\n",
              "13           0         202\n",
              "             5         230\n",
              "             10        207\n",
              "14           0         205\n",
              "             5         221\n",
              "             10        208\n",
              "15           0         204\n",
              "             5         204\n",
              "             10        206\n",
              "16           0         158\n",
              "             5         188\n",
              "             10        201\n",
              "17           0         202\n",
              "             5         203\n",
              "             10        202\n",
              "18           0         201\n",
              "             5         198\n",
              "             10        214\n",
              "Name: EAR, dtype: int64"
            ]
          },
          "metadata": {
            "tags": []
          },
          "execution_count": 45
        }
      ]
    },
    {
      "cell_type": "markdown",
      "metadata": {
        "id": "ypXLT2dxegtT"
      },
      "source": [
        "The video with lowest number of frames has 158 frames. Standardize frames from all videos to be the same number"
      ]
    },
    {
      "cell_type": "code",
      "metadata": {
        "id": "agNJCmU_fBx1"
      },
      "source": [
        "ind_13_0 = image_features[(image_features['individuals'] == 13) & (image_features['labels'] ==  0)].iloc[:158, :]\n",
        "ind_13_5 = image_features[(image_features['individuals'] == 13) & (image_features['labels'] ==  5)].iloc[:158, :]\n",
        "ind_13_10 = image_features[(image_features['individuals'] == 13) & (image_features['labels'] ==  10)].iloc[:158, :]\n",
        "ind_14_0 = image_features[(image_features['individuals'] == 14) & (image_features['labels'] ==  0)].iloc[:158, :]\n",
        "ind_14_5 = image_features[(image_features['individuals'] == 14) & (image_features['labels'] ==  5)].iloc[:158, :]\n",
        "ind_14_10 = image_features[(image_features['individuals'] == 14) & (image_features['labels'] ==  10)].iloc[:158, :]\n",
        "ind_15_0 = image_features[(image_features['individuals'] == 15) & (image_features['labels'] ==  0)].iloc[:158, :]\n",
        "ind_15_5 = image_features[(image_features['individuals'] == 15) & (image_features['labels'] ==  5)].iloc[:158, :]\n",
        "ind_15_10 = image_features[(image_features['individuals'] == 15) & (image_features['labels'] ==  10)].iloc[:158, :]\n",
        "ind_16_0 = image_features[(image_features['individuals'] == 16) & (image_features['labels'] ==  0)].iloc[:158, :]\n",
        "ind_16_5 = image_features[(image_features['individuals'] == 16) & (image_features['labels'] ==  5)].iloc[:158, :]\n",
        "ind_16_10 = image_features[(image_features['individuals'] == 16) & (image_features['labels'] ==  10)].iloc[:158, :]\n",
        "ind_17_0 = image_features[(image_features['individuals'] == 17) & (image_features['labels'] ==  0)].iloc[:158, :]\n",
        "ind_17_5 = image_features[(image_features['individuals'] == 17) & (image_features['labels'] ==  5)].iloc[:158, :]\n",
        "ind_17_10 = image_features[(image_features['individuals'] == 17) & (image_features['labels'] ==  10)].iloc[:158, :]\n",
        "ind_18_0 = image_features[(image_features['individuals'] == 18) & (image_features['labels'] ==  0)].iloc[:158, :]\n",
        "ind_18_5 = image_features[(image_features['individuals'] == 18) & (image_features['labels'] ==  5)].iloc[:158, :]\n",
        "ind_18_10 = image_features[(image_features['individuals'] == 18) & (image_features['labels'] ==  10)].iloc[:158, :]\n"
      ],
      "execution_count": null,
      "outputs": []
    },
    {
      "cell_type": "code",
      "metadata": {
        "id": "0mX4KAy1rwWf"
      },
      "source": [
        "# Create separate frame for each individual\n",
        "ind_13 = pd.concat([ind_13_0,ind_13_10, ind_13_5])\n",
        "ind_14 = pd.concat([ind_14_0, ind_14_10, ind_14_5])\n",
        "ind_15 = pd.concat([ind_15_0,ind_15_10, ind_15_5])\n",
        "ind_16 = pd.concat([ind_16_0, ind_16_10, ind_16_5])\n",
        "ind_17 = pd.concat([ind_17_0, ind_17_10, ind_17_5])\n",
        "ind_18 = pd.concat([ind_18_0, ind_18_10, ind_18_5])"
      ],
      "execution_count": null,
      "outputs": []
    },
    {
      "cell_type": "code",
      "metadata": {
        "id": "O0EFs3dduQLQ"
      },
      "source": [
        "def normalization(feature, feature_mean, std_dev):\n",
        "  norm_feature =  (feature - feature_mean) / std_dev\n",
        "  return norm_feature"
      ],
      "execution_count": null,
      "outputs": []
    },
    {
      "cell_type": "code",
      "metadata": {
        "id": "PMG-xX-HrwsN"
      },
      "source": [
        "# Extract standard deviation and mean of the first 4 frames of alert video for each individual\n",
        "dataframes = [ind_13, ind_14, ind_15, ind_16, ind_17, ind_18]\n",
        "for frame in dataframes:\n",
        "  column_means = frame.head(4).iloc[:, :4].mean()\n",
        "  column_std = frame.head(4).iloc[:, :4].std()\n",
        "  frame['NORM_EAR'] = frame['EAR'].apply(lambda x: normalization(x, column_means[0], column_std[0]))\n",
        "  frame['NORM_MAR'] = frame['MAR'].apply(lambda x: normalization(x, column_means[1], column_std[1]))\n",
        "  frame['NORM_MOE'] = frame['MOE'].apply(lambda x: normalization(x, column_means[2], column_std[2]))\n",
        "  frame['NORM_PUC'] = frame['PUC'].apply(lambda x: normalization(x, column_means[3], column_std[3]))"
      ],
      "execution_count": null,
      "outputs": []
    },
    {
      "cell_type": "code",
      "metadata": {
        "colab": {
          "base_uri": "https://localhost:8080/",
          "height": 335
        },
        "id": "Qfm0O_lut_An",
        "outputId": "40838114-2ec1-4ffa-cebf-c5e9d15e53c4"
      },
      "source": [
        "ind_13.head(10)"
      ],
      "execution_count": null,
      "outputs": [
        {
          "output_type": "execute_result",
          "data": {
            "text/html": [
              "<div>\n",
              "<style scoped>\n",
              "    .dataframe tbody tr th:only-of-type {\n",
              "        vertical-align: middle;\n",
              "    }\n",
              "\n",
              "    .dataframe tbody tr th {\n",
              "        vertical-align: top;\n",
              "    }\n",
              "\n",
              "    .dataframe thead th {\n",
              "        text-align: right;\n",
              "    }\n",
              "</style>\n",
              "<table border=\"1\" class=\"dataframe\">\n",
              "  <thead>\n",
              "    <tr style=\"text-align: right;\">\n",
              "      <th></th>\n",
              "      <th>EAR</th>\n",
              "      <th>MAR</th>\n",
              "      <th>MOE</th>\n",
              "      <th>PUC</th>\n",
              "      <th>labels</th>\n",
              "      <th>individuals</th>\n",
              "      <th>NORM_EAR</th>\n",
              "      <th>NORM_MAR</th>\n",
              "      <th>NORM_MOE</th>\n",
              "      <th>NORM_PUC</th>\n",
              "    </tr>\n",
              "  </thead>\n",
              "  <tbody>\n",
              "    <tr>\n",
              "      <th>0</th>\n",
              "      <td>0.275309</td>\n",
              "      <td>0.016793</td>\n",
              "      <td>0.060997</td>\n",
              "      <td>0.461757</td>\n",
              "      <td>0</td>\n",
              "      <td>13</td>\n",
              "      <td>-1.472587</td>\n",
              "      <td>-1.401509</td>\n",
              "      <td>-1.395918</td>\n",
              "      <td>-1.415283</td>\n",
              "    </tr>\n",
              "    <tr>\n",
              "      <th>1</th>\n",
              "      <td>0.303325</td>\n",
              "      <td>0.134450</td>\n",
              "      <td>0.443253</td>\n",
              "      <td>0.498823</td>\n",
              "      <td>0</td>\n",
              "      <td>13</td>\n",
              "      <td>0.271834</td>\n",
              "      <td>0.797101</td>\n",
              "      <td>0.829263</td>\n",
              "      <td>0.522114</td>\n",
              "    </tr>\n",
              "    <tr>\n",
              "      <th>2</th>\n",
              "      <td>0.306427</td>\n",
              "      <td>0.090308</td>\n",
              "      <td>0.294714</td>\n",
              "      <td>0.505097</td>\n",
              "      <td>0</td>\n",
              "      <td>13</td>\n",
              "      <td>0.464930</td>\n",
              "      <td>-0.027757</td>\n",
              "      <td>-0.035409</td>\n",
              "      <td>0.850004</td>\n",
              "    </tr>\n",
              "    <tr>\n",
              "      <th>3</th>\n",
              "      <td>0.310777</td>\n",
              "      <td>0.125623</td>\n",
              "      <td>0.404223</td>\n",
              "      <td>0.489660</td>\n",
              "      <td>0</td>\n",
              "      <td>13</td>\n",
              "      <td>0.735822</td>\n",
              "      <td>0.632165</td>\n",
              "      <td>0.602064</td>\n",
              "      <td>0.043164</td>\n",
              "    </tr>\n",
              "    <tr>\n",
              "      <th>4</th>\n",
              "      <td>0.318539</td>\n",
              "      <td>0.047389</td>\n",
              "      <td>0.148770</td>\n",
              "      <td>0.515814</td>\n",
              "      <td>0</td>\n",
              "      <td>13</td>\n",
              "      <td>1.219064</td>\n",
              "      <td>-0.829776</td>\n",
              "      <td>-0.884979</td>\n",
              "      <td>1.410191</td>\n",
              "    </tr>\n",
              "    <tr>\n",
              "      <th>5</th>\n",
              "      <td>0.287774</td>\n",
              "      <td>0.115144</td>\n",
              "      <td>0.400119</td>\n",
              "      <td>0.486421</td>\n",
              "      <td>0</td>\n",
              "      <td>13</td>\n",
              "      <td>-0.696458</td>\n",
              "      <td>0.436334</td>\n",
              "      <td>0.578172</td>\n",
              "      <td>-0.126146</td>\n",
              "    </tr>\n",
              "    <tr>\n",
              "      <th>6</th>\n",
              "      <td>0.361872</td>\n",
              "      <td>0.000000</td>\n",
              "      <td>0.000000</td>\n",
              "      <td>0.554691</td>\n",
              "      <td>0</td>\n",
              "      <td>13</td>\n",
              "      <td>3.917145</td>\n",
              "      <td>-1.715315</td>\n",
              "      <td>-1.750995</td>\n",
              "      <td>3.442203</td>\n",
              "    </tr>\n",
              "    <tr>\n",
              "      <th>7</th>\n",
              "      <td>0.291807</td>\n",
              "      <td>0.021930</td>\n",
              "      <td>0.075154</td>\n",
              "      <td>0.461131</td>\n",
              "      <td>0</td>\n",
              "      <td>13</td>\n",
              "      <td>-0.445336</td>\n",
              "      <td>-1.305510</td>\n",
              "      <td>-1.313511</td>\n",
              "      <td>-1.448009</td>\n",
              "    </tr>\n",
              "    <tr>\n",
              "      <th>8</th>\n",
              "      <td>0.345893</td>\n",
              "      <td>0.079295</td>\n",
              "      <td>0.229247</td>\n",
              "      <td>0.542693</td>\n",
              "      <td>0</td>\n",
              "      <td>13</td>\n",
              "      <td>2.922238</td>\n",
              "      <td>-0.233558</td>\n",
              "      <td>-0.416505</td>\n",
              "      <td>2.815099</td>\n",
              "    </tr>\n",
              "    <tr>\n",
              "      <th>9</th>\n",
              "      <td>0.325720</td>\n",
              "      <td>0.033537</td>\n",
              "      <td>0.102962</td>\n",
              "      <td>0.515904</td>\n",
              "      <td>0</td>\n",
              "      <td>13</td>\n",
              "      <td>1.666168</td>\n",
              "      <td>-1.088625</td>\n",
              "      <td>-1.151633</td>\n",
              "      <td>1.414907</td>\n",
              "    </tr>\n",
              "  </tbody>\n",
              "</table>\n",
              "</div>"
            ],
            "text/plain": [
              "        EAR       MAR       MOE  ...  NORM_MAR  NORM_MOE  NORM_PUC\n",
              "0  0.275309  0.016793  0.060997  ... -1.401509 -1.395918 -1.415283\n",
              "1  0.303325  0.134450  0.443253  ...  0.797101  0.829263  0.522114\n",
              "2  0.306427  0.090308  0.294714  ... -0.027757 -0.035409  0.850004\n",
              "3  0.310777  0.125623  0.404223  ...  0.632165  0.602064  0.043164\n",
              "4  0.318539  0.047389  0.148770  ... -0.829776 -0.884979  1.410191\n",
              "5  0.287774  0.115144  0.400119  ...  0.436334  0.578172 -0.126146\n",
              "6  0.361872  0.000000  0.000000  ... -1.715315 -1.750995  3.442203\n",
              "7  0.291807  0.021930  0.075154  ... -1.305510 -1.313511 -1.448009\n",
              "8  0.345893  0.079295  0.229247  ... -0.233558 -0.416505  2.815099\n",
              "9  0.325720  0.033537  0.102962  ... -1.088625 -1.151633  1.414907\n",
              "\n",
              "[10 rows x 10 columns]"
            ]
          },
          "metadata": {
            "tags": []
          },
          "execution_count": 50
        }
      ]
    },
    {
      "cell_type": "code",
      "metadata": {
        "id": "rbZFIFK8uKEv"
      },
      "source": [
        "# Combine all frames\n",
        "all_frames = pd.concat([ind_13, ind_14,ind_15, ind_16, ind_17,ind_18])\n"
      ],
      "execution_count": null,
      "outputs": []
    },
    {
      "cell_type": "code",
      "metadata": {
        "colab": {
          "base_uri": "https://localhost:8080/",
          "height": 191
        },
        "id": "JiW6VT0YxunJ",
        "outputId": "cf2f7444-005d-482d-a3f0-5158068fd4ba"
      },
      "source": [
        "# Preview data set\n",
        "all_frames.head()"
      ],
      "execution_count": null,
      "outputs": [
        {
          "output_type": "execute_result",
          "data": {
            "text/html": [
              "<div>\n",
              "<style scoped>\n",
              "    .dataframe tbody tr th:only-of-type {\n",
              "        vertical-align: middle;\n",
              "    }\n",
              "\n",
              "    .dataframe tbody tr th {\n",
              "        vertical-align: top;\n",
              "    }\n",
              "\n",
              "    .dataframe thead th {\n",
              "        text-align: right;\n",
              "    }\n",
              "</style>\n",
              "<table border=\"1\" class=\"dataframe\">\n",
              "  <thead>\n",
              "    <tr style=\"text-align: right;\">\n",
              "      <th></th>\n",
              "      <th>EAR</th>\n",
              "      <th>MAR</th>\n",
              "      <th>MOE</th>\n",
              "      <th>PUC</th>\n",
              "      <th>labels</th>\n",
              "      <th>individuals</th>\n",
              "      <th>NORM_EAR</th>\n",
              "      <th>NORM_MAR</th>\n",
              "      <th>NORM_MOE</th>\n",
              "      <th>NORM_PUC</th>\n",
              "    </tr>\n",
              "  </thead>\n",
              "  <tbody>\n",
              "    <tr>\n",
              "      <th>0</th>\n",
              "      <td>0.275309</td>\n",
              "      <td>0.016793</td>\n",
              "      <td>0.060997</td>\n",
              "      <td>0.461757</td>\n",
              "      <td>0</td>\n",
              "      <td>13</td>\n",
              "      <td>-1.472587</td>\n",
              "      <td>-1.401509</td>\n",
              "      <td>-1.395918</td>\n",
              "      <td>-1.415283</td>\n",
              "    </tr>\n",
              "    <tr>\n",
              "      <th>1</th>\n",
              "      <td>0.303325</td>\n",
              "      <td>0.134450</td>\n",
              "      <td>0.443253</td>\n",
              "      <td>0.498823</td>\n",
              "      <td>0</td>\n",
              "      <td>13</td>\n",
              "      <td>0.271834</td>\n",
              "      <td>0.797101</td>\n",
              "      <td>0.829263</td>\n",
              "      <td>0.522114</td>\n",
              "    </tr>\n",
              "    <tr>\n",
              "      <th>2</th>\n",
              "      <td>0.306427</td>\n",
              "      <td>0.090308</td>\n",
              "      <td>0.294714</td>\n",
              "      <td>0.505097</td>\n",
              "      <td>0</td>\n",
              "      <td>13</td>\n",
              "      <td>0.464930</td>\n",
              "      <td>-0.027757</td>\n",
              "      <td>-0.035409</td>\n",
              "      <td>0.850004</td>\n",
              "    </tr>\n",
              "    <tr>\n",
              "      <th>3</th>\n",
              "      <td>0.310777</td>\n",
              "      <td>0.125623</td>\n",
              "      <td>0.404223</td>\n",
              "      <td>0.489660</td>\n",
              "      <td>0</td>\n",
              "      <td>13</td>\n",
              "      <td>0.735822</td>\n",
              "      <td>0.632165</td>\n",
              "      <td>0.602064</td>\n",
              "      <td>0.043164</td>\n",
              "    </tr>\n",
              "    <tr>\n",
              "      <th>4</th>\n",
              "      <td>0.318539</td>\n",
              "      <td>0.047389</td>\n",
              "      <td>0.148770</td>\n",
              "      <td>0.515814</td>\n",
              "      <td>0</td>\n",
              "      <td>13</td>\n",
              "      <td>1.219064</td>\n",
              "      <td>-0.829776</td>\n",
              "      <td>-0.884979</td>\n",
              "      <td>1.410191</td>\n",
              "    </tr>\n",
              "  </tbody>\n",
              "</table>\n",
              "</div>"
            ],
            "text/plain": [
              "        EAR       MAR       MOE  ...  NORM_MAR  NORM_MOE  NORM_PUC\n",
              "0  0.275309  0.016793  0.060997  ... -1.401509 -1.395918 -1.415283\n",
              "1  0.303325  0.134450  0.443253  ...  0.797101  0.829263  0.522114\n",
              "2  0.306427  0.090308  0.294714  ... -0.027757 -0.035409  0.850004\n",
              "3  0.310777  0.125623  0.404223  ...  0.632165  0.602064  0.043164\n",
              "4  0.318539  0.047389  0.148770  ... -0.829776 -0.884979  1.410191\n",
              "\n",
              "[5 rows x 10 columns]"
            ]
          },
          "metadata": {
            "tags": []
          },
          "execution_count": 52
        }
      ]
    },
    {
      "cell_type": "code",
      "metadata": {
        "id": "mEfgAQ_5jfoV"
      },
      "source": [
        "# Drop rows where class == 5\n",
        "all_frames.drop(index=all_frames.loc[all_frames['labels'] == 5].index, inplace=True)\n",
        "# Convert target variable into a binary variable where 0 is alert and 1 is not alert\n",
        "all_frames['labels'] = np.where(all_frames['labels'] == 0, 0, 1)"
      ],
      "execution_count": null,
      "outputs": []
    },
    {
      "cell_type": "code",
      "metadata": {
        "id": "RoSu7yhT1Noe"
      },
      "source": [
        "# Save data to csvs\n",
        "all_frames.to_csv('frames_13_18.csv', index=False)\n"
      ],
      "execution_count": null,
      "outputs": []
    },
    {
      "cell_type": "code",
      "metadata": {
        "id": "vJFek9Db25pf"
      },
      "source": [
        ""
      ],
      "execution_count": null,
      "outputs": []
    }
  ]
}